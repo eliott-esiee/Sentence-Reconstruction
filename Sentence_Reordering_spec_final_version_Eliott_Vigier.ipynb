{
  "cells": [
    {
      "cell_type": "markdown",
      "metadata": {
        "id": "ElNaMbLnRdHR"
      },
      "source": [
        "# Sentence Reconstruction"
      ]
    },
    {
      "cell_type": "markdown",
      "metadata": {
        "id": "Te7JuEPcaA2a"
      },
      "source": []
    },
    {
      "cell_type": "markdown",
      "metadata": {
        "id": "oXr4iGUGRms8"
      },
      "source": [
        "The purpose of this project is to take in input a sequence of words corresponding to a random permutation of a given english sentence, and reconstruct the original sentence.\n",
        "\n",
        "The otuput can be either produced in a single shot, or through an iterative (autoregressive) loop generating a single token at a time.\n",
        "\n",
        "\n",
        "CONSTRAINTS:\n",
        "* No pretrained model can be used.\n",
        "* The neural network models should have less the 20M parameters.\n",
        "* No postprocessing should be done (e.g. no beamsearch)\n",
        "* You cannot use additional training data.\n",
        "\n",
        "\n",
        "BONUS PARAMETERS:\n",
        "\n",
        "A bonus of 0-2 points will be attributed to incentivate the adoption of models with a low number of parameters."
      ]
    },
    {
      "cell_type": "markdown",
      "metadata": {
        "id": "iQ8k-L-WUK7l"
      },
      "source": [
        "# Dataset\n",
        "\n",
        "The dataset is composed by sentences taken from the generics_kb dataset of hugging face. We restricted the vocabolary to the 10K most frequent words, and only took sentences making use of this vocabulary."
      ]
    },
    {
      "cell_type": "code",
      "execution_count": null,
      "metadata": {
        "collapsed": true,
        "id": "nJ02vehGYySk",
        "colab": {
          "base_uri": "https://localhost:8080/"
        },
        "outputId": "627120ab-fcb3-449c-9989-cfc0321e58d0"
      },
      "outputs": [
        {
          "output_type": "stream",
          "name": "stdout",
          "text": [
            "Collecting datasets\n",
            "  Downloading datasets-2.19.2-py3-none-any.whl (542 kB)\n",
            "\u001b[2K     \u001b[90m━━━━━━━━━━━━━━━━━━━━━━━━━━━━━━━━━━━━━━━━\u001b[0m \u001b[32m542.1/542.1 kB\u001b[0m \u001b[31m6.1 MB/s\u001b[0m eta \u001b[36m0:00:00\u001b[0m\n",
            "\u001b[?25hRequirement already satisfied: filelock in /usr/local/lib/python3.10/dist-packages (from datasets) (3.14.0)\n",
            "Requirement already satisfied: numpy>=1.17 in /usr/local/lib/python3.10/dist-packages (from datasets) (1.25.2)\n",
            "Requirement already satisfied: pyarrow>=12.0.0 in /usr/local/lib/python3.10/dist-packages (from datasets) (14.0.2)\n",
            "Requirement already satisfied: pyarrow-hotfix in /usr/local/lib/python3.10/dist-packages (from datasets) (0.6)\n",
            "Collecting dill<0.3.9,>=0.3.0 (from datasets)\n",
            "  Downloading dill-0.3.8-py3-none-any.whl (116 kB)\n",
            "\u001b[2K     \u001b[90m━━━━━━━━━━━━━━━━━━━━━━━━━━━━━━━━━━━━━━━━\u001b[0m \u001b[32m116.3/116.3 kB\u001b[0m \u001b[31m6.4 MB/s\u001b[0m eta \u001b[36m0:00:00\u001b[0m\n",
            "\u001b[?25hRequirement already satisfied: pandas in /usr/local/lib/python3.10/dist-packages (from datasets) (2.0.3)\n",
            "Collecting requests>=2.32.1 (from datasets)\n",
            "  Downloading requests-2.32.3-py3-none-any.whl (64 kB)\n",
            "\u001b[2K     \u001b[90m━━━━━━━━━━━━━━━━━━━━━━━━━━━━━━━━━━━━━━━━\u001b[0m \u001b[32m64.9/64.9 kB\u001b[0m \u001b[31m5.8 MB/s\u001b[0m eta \u001b[36m0:00:00\u001b[0m\n",
            "\u001b[?25hRequirement already satisfied: tqdm>=4.62.1 in /usr/local/lib/python3.10/dist-packages (from datasets) (4.66.4)\n",
            "Collecting xxhash (from datasets)\n",
            "  Downloading xxhash-3.4.1-cp310-cp310-manylinux_2_17_x86_64.manylinux2014_x86_64.whl (194 kB)\n",
            "\u001b[2K     \u001b[90m━━━━━━━━━━━━━━━━━━━━━━━━━━━━━━━━━━━━━━━━\u001b[0m \u001b[32m194.1/194.1 kB\u001b[0m \u001b[31m8.4 MB/s\u001b[0m eta \u001b[36m0:00:00\u001b[0m\n",
            "\u001b[?25hCollecting multiprocess (from datasets)\n",
            "  Downloading multiprocess-0.70.16-py310-none-any.whl (134 kB)\n",
            "\u001b[2K     \u001b[90m━━━━━━━━━━━━━━━━━━━━━━━━━━━━━━━━━━━━━━━━\u001b[0m \u001b[32m134.8/134.8 kB\u001b[0m \u001b[31m11.9 MB/s\u001b[0m eta \u001b[36m0:00:00\u001b[0m\n",
            "\u001b[?25hRequirement already satisfied: fsspec[http]<=2024.3.1,>=2023.1.0 in /usr/local/lib/python3.10/dist-packages (from datasets) (2023.6.0)\n",
            "Requirement already satisfied: aiohttp in /usr/local/lib/python3.10/dist-packages (from datasets) (3.9.5)\n",
            "Requirement already satisfied: huggingface-hub>=0.21.2 in /usr/local/lib/python3.10/dist-packages (from datasets) (0.23.2)\n",
            "Requirement already satisfied: packaging in /usr/local/lib/python3.10/dist-packages (from datasets) (24.0)\n",
            "Requirement already satisfied: pyyaml>=5.1 in /usr/local/lib/python3.10/dist-packages (from datasets) (6.0.1)\n",
            "Requirement already satisfied: aiosignal>=1.1.2 in /usr/local/lib/python3.10/dist-packages (from aiohttp->datasets) (1.3.1)\n",
            "Requirement already satisfied: attrs>=17.3.0 in /usr/local/lib/python3.10/dist-packages (from aiohttp->datasets) (23.2.0)\n",
            "Requirement already satisfied: frozenlist>=1.1.1 in /usr/local/lib/python3.10/dist-packages (from aiohttp->datasets) (1.4.1)\n",
            "Requirement already satisfied: multidict<7.0,>=4.5 in /usr/local/lib/python3.10/dist-packages (from aiohttp->datasets) (6.0.5)\n",
            "Requirement already satisfied: yarl<2.0,>=1.0 in /usr/local/lib/python3.10/dist-packages (from aiohttp->datasets) (1.9.4)\n",
            "Requirement already satisfied: async-timeout<5.0,>=4.0 in /usr/local/lib/python3.10/dist-packages (from aiohttp->datasets) (4.0.3)\n",
            "Requirement already satisfied: typing-extensions>=3.7.4.3 in /usr/local/lib/python3.10/dist-packages (from huggingface-hub>=0.21.2->datasets) (4.12.1)\n",
            "Requirement already satisfied: charset-normalizer<4,>=2 in /usr/local/lib/python3.10/dist-packages (from requests>=2.32.1->datasets) (3.3.2)\n",
            "Requirement already satisfied: idna<4,>=2.5 in /usr/local/lib/python3.10/dist-packages (from requests>=2.32.1->datasets) (3.7)\n",
            "Requirement already satisfied: urllib3<3,>=1.21.1 in /usr/local/lib/python3.10/dist-packages (from requests>=2.32.1->datasets) (2.0.7)\n",
            "Requirement already satisfied: certifi>=2017.4.17 in /usr/local/lib/python3.10/dist-packages (from requests>=2.32.1->datasets) (2024.6.2)\n",
            "Requirement already satisfied: python-dateutil>=2.8.2 in /usr/local/lib/python3.10/dist-packages (from pandas->datasets) (2.8.2)\n",
            "Requirement already satisfied: pytz>=2020.1 in /usr/local/lib/python3.10/dist-packages (from pandas->datasets) (2023.4)\n",
            "Requirement already satisfied: tzdata>=2022.1 in /usr/local/lib/python3.10/dist-packages (from pandas->datasets) (2024.1)\n",
            "Requirement already satisfied: six>=1.5 in /usr/local/lib/python3.10/dist-packages (from python-dateutil>=2.8.2->pandas->datasets) (1.16.0)\n",
            "Installing collected packages: xxhash, requests, dill, multiprocess, datasets\n",
            "  Attempting uninstall: requests\n",
            "    Found existing installation: requests 2.31.0\n",
            "    Uninstalling requests-2.31.0:\n",
            "      Successfully uninstalled requests-2.31.0\n",
            "\u001b[31mERROR: pip's dependency resolver does not currently take into account all the packages that are installed. This behaviour is the source of the following dependency conflicts.\n",
            "google-colab 1.0.0 requires requests==2.31.0, but you have requests 2.32.3 which is incompatible.\u001b[0m\u001b[31m\n",
            "\u001b[0mSuccessfully installed datasets-2.19.2 dill-0.3.8 multiprocess-0.70.16 requests-2.32.3 xxhash-3.4.1\n"
          ]
        }
      ],
      "source": [
        "!pip install datasets"
      ]
    },
    {
      "cell_type": "markdown",
      "metadata": {
        "id": "807Wk-ir_bDU"
      },
      "source": [
        "Download the dataset"
      ]
    },
    {
      "cell_type": "code",
      "execution_count": null,
      "metadata": {
        "id": "_WjtqA8TrHcS",
        "colab": {
          "base_uri": "https://localhost:8080/",
          "height": 249,
          "referenced_widgets": [
            "167940be85c14a83b78e30d9022df6f8",
            "749899cb42cd4043aeaa7ec4c1f8b1b0",
            "dc60dc8b86794402a9ebd871d176739b",
            "b8aa19b24c7a472bb0abb639e5f9ffdb",
            "6db8be15d2e94abe8ecebec11ee2ed85",
            "4fc40f8eb6554d8e92e51cbb524b52b3",
            "1638caf5cef04b0fb022153d3a62079d",
            "449e0573f6fd4b7ea698150ea3e1b267",
            "e27040c5140541afbb4bb410f316a0ee",
            "9f21f68d102545b08a2d8911ae5bc46b",
            "de7440b1d1b04c45bae01f93105019bf",
            "0d1a7c5ed426467c9c4b0a1526a983e5",
            "a852224a92ca4daba04e9a4b7794ee3d",
            "e32a5c91490c4f559aa1c0e9bc319174",
            "5cf5d4a43e274e4bbcd7a8cee1c16261",
            "1d3138af83e84d6ebbbe7dc80dbc5665",
            "c0df8eec692c441c8df1807215c766d2",
            "1fbd4d6874d94faa9b16ab30a5c0fd7f",
            "ca58e9ed1b4a4fd48e328007e8a30180",
            "977b9869a6694deea221ab702ca2cfb6",
            "394a3abb1d7f40f1af09173a1b7b4ecd",
            "b3409bdfe48c42e38c0b72104e7db42f",
            "e45215b401f34179921a5304c63a3218",
            "e4a2368ad6f54b82871e9b4653053f2d",
            "e813f5337f54444b8c4ff8b329376d70",
            "33913b848a1a4112a14a876f43594588",
            "afda300aefef4eaba51da30ebc2d0cc7",
            "6e2f203a344d47af819ddb26442818ce",
            "1b2f760e68894e78a20593a0ca4f08d1",
            "3c5891a9a7004e349a832240a3186644",
            "a07b3fc2ec69401f8d4af058e5b0c7a6",
            "f2bfca6cd0484e74a54d7eff4f284c70",
            "d42aedcac84d4bea869ec2caf10325bd",
            "ef9e685868d340439cdc1f4db368957c",
            "d53473128f6a429094b8d737ebd7404d",
            "83f5a299063f404da8ecc19d28923670",
            "26ca462282a4493bbcfcc708404d83c7",
            "35fd64e0e64b413089b479b9b7ee7d79",
            "d32c1f1e6ad74229973343b7093f7fe5",
            "a44d9b886ad24d0da8df654e6b2b4d1b",
            "d8e67671ce5f4e9c8697738595475e9b",
            "7b3343bd4e864e14869072c2fee3090e",
            "6e28800856d94a65bf9710209dfcc2f2",
            "56f10007064b464c9a00d8b271b1dd50"
          ]
        },
        "outputId": "dc333b82-4b99-4e6b-ca2b-674572b5abcf"
      },
      "outputs": [
        {
          "output_type": "stream",
          "name": "stderr",
          "text": [
            "/usr/local/lib/python3.10/dist-packages/huggingface_hub/utils/_token.py:89: UserWarning: \n",
            "The secret `HF_TOKEN` does not exist in your Colab secrets.\n",
            "To authenticate with the Hugging Face Hub, create a token in your settings tab (https://huggingface.co/settings/tokens), set it as secret in your Google Colab and restart your session.\n",
            "You will be able to reuse this secret in all of your notebooks.\n",
            "Please note that authentication is recommended but still optional to access public models or datasets.\n",
            "  warnings.warn(\n"
          ]
        },
        {
          "output_type": "display_data",
          "data": {
            "text/plain": [
              "Downloading builder script:   0%|          | 0.00/8.64k [00:00<?, ?B/s]"
            ],
            "application/vnd.jupyter.widget-view+json": {
              "version_major": 2,
              "version_minor": 0,
              "model_id": "167940be85c14a83b78e30d9022df6f8"
            }
          },
          "metadata": {}
        },
        {
          "output_type": "display_data",
          "data": {
            "text/plain": [
              "Downloading readme:   0%|          | 0.00/11.9k [00:00<?, ?B/s]"
            ],
            "application/vnd.jupyter.widget-view+json": {
              "version_major": 2,
              "version_minor": 0,
              "model_id": "0d1a7c5ed426467c9c4b0a1526a983e5"
            }
          },
          "metadata": {}
        },
        {
          "output_type": "display_data",
          "data": {
            "text/plain": [
              "Downloading data:   0%|          | 0.00/27.1M [00:00<?, ?B/s]"
            ],
            "application/vnd.jupyter.widget-view+json": {
              "version_major": 2,
              "version_minor": 0,
              "model_id": "e45215b401f34179921a5304c63a3218"
            }
          },
          "metadata": {}
        },
        {
          "output_type": "display_data",
          "data": {
            "text/plain": [
              "Generating train split:   0%|          | 0/1020868 [00:00<?, ? examples/s]"
            ],
            "application/vnd.jupyter.widget-view+json": {
              "version_major": 2,
              "version_minor": 0,
              "model_id": "ef9e685868d340439cdc1f4db368957c"
            }
          },
          "metadata": {}
        }
      ],
      "source": [
        "from datasets import load_dataset\n",
        "from keras.layers import TextVectorization\n",
        "import tensorflow as tf\n",
        "import numpy as np\n",
        "np.random.seed(42)\n",
        "ds = load_dataset('generics_kb',trust_remote_code=True)['train']"
      ]
    },
    {
      "cell_type": "markdown",
      "metadata": {
        "id": "lAVLfsdc_ej5"
      },
      "source": [
        "Filter row with length greater than 8.\n"
      ]
    },
    {
      "cell_type": "code",
      "execution_count": null,
      "metadata": {
        "id": "iznq8xGNt2Zr",
        "colab": {
          "base_uri": "https://localhost:8080/",
          "referenced_widgets": [
            "55a5797dde2944f9b5127700edace0d9",
            "9d1ee9d726a8406d94f2b5f1bbd9b74c",
            "7eb4fda6efc04d6893fe3f6283dc1665",
            "c494e068f9af4230a29c7925a6688407",
            "84f4e40c2aae4e23a5577e31abf60fe5",
            "9325726e02494faba7386823b2ec2405",
            "a1421419f22744b3bb6759e000675af1",
            "9ee0d6bad6be4419aa2de0dd5e147274",
            "fe995f7491d14928a391cb27be9269f6",
            "efdac6f9c33547469ad05eefccb16b2e",
            "539f7b22f41c4ec68960cd5bdc5bbd45"
          ]
        },
        "outputId": "211bbec3-6fe3-4d29-ee5e-6449ed3e04a2"
      },
      "outputs": [
        {
          "output_type": "display_data",
          "data": {
            "text/plain": [
              "Filter:   0%|          | 0/1020868 [00:00<?, ? examples/s]"
            ],
            "application/vnd.jupyter.widget-view+json": {
              "version_major": 2,
              "version_minor": 0,
              "model_id": "55a5797dde2944f9b5127700edace0d9"
            }
          },
          "metadata": {}
        }
      ],
      "source": [
        "ds = ds.filter(lambda row: len(row[\"generic_sentence\"].split(\" \")) > 8 )\n",
        "corpus = [ '<start> ' + row['generic_sentence'].replace(\",\",\" <comma>\") + ' <end>' for row in ds ]\n",
        "corpus = np.array(corpus)\n"
      ]
    },
    {
      "cell_type": "markdown",
      "metadata": {
        "id": "FyYpXLCF_ldR"
      },
      "source": [
        "Create a tokenizer and Detokenizer"
      ]
    },
    {
      "cell_type": "code",
      "execution_count": null,
      "metadata": {
        "collapsed": true,
        "id": "T-bE2JpVbU9E"
      },
      "outputs": [],
      "source": [
        "tokenizer=TextVectorization( max_tokens=10000, standardize=\"lower_and_strip_punctuation\", encoding=\"utf-8\",) #con il max prende le piu frequenti. ordina i token del vocab dal piu frequente al meno frequente\n",
        "tokenizer.adapt(corpus)\n",
        "\n",
        "class TextDetokenizer:\n",
        "    def __init__(self, vectorize_layer):\n",
        "        self.vectorize_layer = vectorize_layer\n",
        "        vocab = self.vectorize_layer.get_vocabulary()\n",
        "        self.index_to_word = {index: word for index, word in enumerate(vocab)}\n",
        "\n",
        "    def __detokenize_tokens(self, tokens):\n",
        "        def check_token(t):\n",
        "          if t == 3:\n",
        "            s=\"<start>\"\n",
        "          elif t == 2:\n",
        "            s=\"<end>\"\n",
        "          elif t == 7:\n",
        "            s=\"<comma>\"\n",
        "          else:\n",
        "            s=self.index_to_word.get(t, '[UNK]')\n",
        "          return s\n",
        "\n",
        "        return ' '.join([ check_token(token) for token in tokens if token != 0])\n",
        "\n",
        "    def __call__(self, batch_tokens):\n",
        "       return [self.__detokenize_tokens(tokens) for tokens in batch_tokens]\n",
        "\n",
        "\n",
        "\n",
        "detokenizer = TextDetokenizer( tokenizer )\n",
        "sentences = tokenizer( corpus ).numpy()\n"
      ]
    },
    {
      "cell_type": "markdown",
      "metadata": {
        "id": "lZ64sns1_pSK"
      },
      "source": [
        "Remove from corpus the sentences where any unknow word appears"
      ]
    },
    {
      "cell_type": "code",
      "execution_count": null,
      "metadata": {
        "id": "2LPQtryQz5wh"
      },
      "outputs": [],
      "source": [
        "mask = np.sum( (sentences==1) , axis=1) >= 1\n",
        "original_data = np.delete( sentences, mask , axis=0)"
      ]
    },
    {
      "cell_type": "code",
      "execution_count": null,
      "metadata": {
        "id": "qYfOscVk7U0r",
        "colab": {
          "base_uri": "https://localhost:8080/"
        },
        "outputId": "bb943042-1a23-4d1f-834f-d0e751225189"
      },
      "outputs": [
        {
          "output_type": "execute_result",
          "data": {
            "text/plain": [
              "(241236, 28)"
            ]
          },
          "metadata": {},
          "execution_count": 6
        }
      ],
      "source": [
        "original_data.shape"
      ]
    },
    {
      "cell_type": "markdown",
      "metadata": {
        "id": "5puiiQ2D_uxa"
      },
      "source": [
        "Shuffle the sentences"
      ]
    },
    {
      "cell_type": "code",
      "execution_count": null,
      "metadata": {
        "id": "1ZXLkWB6od0R"
      },
      "outputs": [],
      "source": [
        "from tensorflow.keras.utils import Sequence\n",
        "\n",
        "class DataGenerator(Sequence):\n",
        "    def __init__(self, data, batch_size=32, shuffle=True):\n",
        "\n",
        "        self.data = data\n",
        "        self.batch_size = batch_size\n",
        "        self.shuffle = shuffle\n",
        "        self.on_epoch_end()\n",
        "\n",
        "    def __len__(self):\n",
        "        return int(np.floor(len(self.data) / self.batch_size))\n",
        "\n",
        "    def __getitem__(self, index):\n",
        "        indexes = self.indexes[index*self.batch_size:(index+1)*self.batch_size]\n",
        "\n",
        "        data_batch = np.array([self.data[k] for k in indexes])\n",
        "        #copy of ordered sequences\n",
        "        result = np.copy(data_batch)\n",
        "        #shuffle only the relevant positions for each batch\n",
        "        for i in range(data_batch.shape[0]):\n",
        "          np.random.shuffle(data_batch[i,1:data_batch[i].argmin() - 1])\n",
        "\n",
        "        return data_batch , result\n",
        "\n",
        "    def on_epoch_end(self):\n",
        "        self.indexes = np.arange(len(self.data))\n",
        "        if self.shuffle:\n",
        "            np.random.shuffle(self.indexes)"
      ]
    },
    {
      "cell_type": "code",
      "execution_count": null,
      "metadata": {
        "id": "uNlq1Khx1oH2"
      },
      "outputs": [],
      "source": [
        "test_generator = DataGenerator(original_data)\n",
        "x, y = test_generator.__getitem__(1)"
      ]
    },
    {
      "cell_type": "code",
      "execution_count": null,
      "metadata": {
        "id": "qR5xwMOn4E88",
        "colab": {
          "base_uri": "https://localhost:8080/"
        },
        "outputId": "b7e684a1-3e1b-46bb-9f80-d90f27259f4f"
      },
      "outputs": [
        {
          "output_type": "stream",
          "name": "stdout",
          "text": [
            "original:  <start> telephone is one of the fastest mediums to communicate with outside world <end>\n",
            "shuffled:  <start> one outside telephone with fastest the communicate mediums to is of world <end>\n",
            "\n",
            "\n",
            "original:  <start> advertising is the art of making whole lies out of half truths <end>\n",
            "shuffled:  <start> the is half out whole truths art of of making lies advertising <end>\n",
            "\n",
            "\n",
            "original:  <start> weather changes from day to day and over the seasons <end>\n",
            "shuffled:  <start> from seasons weather and day day changes to over the <end>\n",
            "\n",
            "\n",
            "original:  <start> smoking also slows down the healing time <comma> so that it takes longer to get well <end>\n",
            "shuffled:  <start> so the that to longer get down takes well healing slows it <comma> smoking time also <end>\n",
            "\n",
            "\n",
            "original:  <start> hypertension increases the risk of heart disease and stroke and can damage eyes and kidneys <end>\n",
            "shuffled:  <start> stroke can damage risk eyes increases hypertension disease the of and kidneys and and heart <end>\n",
            "\n",
            "\n",
            "original:  <start> humans make lenses by grinding glass to a particular shape <end>\n",
            "shuffled:  <start> lenses shape humans particular a grinding make glass to by <end>\n",
            "\n",
            "\n",
            "original:  <start> skunks look for the grubs in soil and often search in newly dug gardens <end>\n",
            "shuffled:  <start> in look often grubs in soil gardens search the dug and newly skunks for <end>\n",
            "\n",
            "\n"
          ]
        }
      ],
      "source": [
        "x = detokenizer(x)\n",
        "y = detokenizer(y)\n",
        "\n",
        "for i in range(7):\n",
        "  print(\"original: \", y[i])\n",
        "  print(\"shuffled: \", x[i])\n",
        "  print(\"\\n\")"
      ]
    },
    {
      "cell_type": "markdown",
      "metadata": {
        "id": "Fo8MazCGBTv3"
      },
      "source": [
        "# Metrics"
      ]
    },
    {
      "cell_type": "markdown",
      "metadata": {
        "id": "G0NOkuO0CfPo"
      },
      "source": [
        "Let s be the source string and p your prediction. The quality of the results will be measured according to the following metric:\n",
        "\n",
        "1.  look for the longest substring w between s and p\n",
        "2.  compute |w|/max(|s|,|p|)\n",
        "\n",
        "If the match is exact, the score is 1.\n",
        "\n",
        "When computing the score, you should NOT consider the start and end tokens.\n",
        "\n"
      ]
    },
    {
      "cell_type": "markdown",
      "metadata": {
        "id": "a-aUrdlXDdVf"
      },
      "source": [
        "The longest common substring can be computed with the SequenceMatcher function of difflib, that allows a simple definition of our metric."
      ]
    },
    {
      "cell_type": "code",
      "execution_count": null,
      "metadata": {
        "id": "ulpTRdrF_huh"
      },
      "outputs": [],
      "source": [
        "from difflib import SequenceMatcher\n",
        "\n",
        "def score(s,p):\n",
        "  match = SequenceMatcher(None, s, p).find_longest_match()\n",
        "  #print(match.size)\n",
        "  return (match.size/max(len(p),len(s)))"
      ]
    },
    {
      "cell_type": "markdown",
      "metadata": {
        "id": "RB2YfjXNExM-"
      },
      "source": [
        "Let's do an example."
      ]
    },
    {
      "cell_type": "code",
      "execution_count": null,
      "metadata": {
        "id": "h17C8bVjEwur",
        "colab": {
          "base_uri": "https://localhost:8080/"
        },
        "outputId": "8ac579a1-a7f2-4f15-dba1-daf2b3702b65"
      },
      "outputs": [
        {
          "output_type": "stream",
          "name": "stdout",
          "text": [
            "your score is  0.5423728813559322\n"
          ]
        }
      ],
      "source": [
        "original = \"at first henry wanted to be friends with the king of france\"\n",
        "generated = \"henry wanted to be friends with king of france at the first\"\n",
        "\n",
        "print(\"your score is \",score(original,generated))"
      ]
    },
    {
      "cell_type": "markdown",
      "metadata": {
        "id": "BET8GqBvFugR"
      },
      "source": [
        "The score must be computed as an average of at least 3K random examples taken form the test set."
      ]
    },
    {
      "cell_type": "markdown",
      "metadata": {
        "id": "4fwo7xj4GBW1"
      },
      "source": [
        "# What to deliver"
      ]
    },
    {
      "cell_type": "markdown",
      "metadata": {
        "id": "i6uITuxOGHfJ"
      },
      "source": [
        "You are supposed to deliver a single notebook, suitably commented.\n",
        "The notebook should describe a single model, although you may briefly discuss additional attempts you did.\n",
        "\n",
        "The notebook should contain a full trace of the training.\n",
        "Weights should be made available on request.\n",
        "\n",
        "You must also give a clear assesment of the performance of the model, computed with the metric that has been given to you.\n",
        "\n",
        "# Good work!"
      ]
    },
    {
      "cell_type": "markdown",
      "metadata": {
        "id": "4EjjMTP7pquZ"
      },
      "source": [
        "# **Introduction**\n",
        "\n",
        "\n"
      ]
    },
    {
      "cell_type": "markdown",
      "metadata": {
        "id": "32iK8JfzpqsC"
      },
      "source": [
        "In this project, I initially explored using simple recurrent neural network (RNN) and long short-term memory (LSTM) architectures to tackle a natural language processing (NLP) task. However, these traditional methods only achieved a maximum accuracy of about 28%, leading to suboptimal results. Recognizing the need for a more advanced approach, I turned to transformer models, which have shown exceptional performance in NLP tasks, particularly where understanding the relationships and positional significance of words within sequences is crucial.\n",
        "\n",
        "<br><span style=\"font-size: 16px;\">\n",
        "\n",
        "Transformers, introduced in the paper \"Attention is All You Need,\" have revolutionized the field of NLP due to their ability to process sequences in parallel and their efficiency in learning long-range dependencies. To better understand and implement a transformer model, I referred to a comprehensive TensorFlow tutorial (https://www.tensorflow.org/text/tutorials/transformer) that explains the intricacies of transformers with a detailed example of a model designed to translate Portuguese sentences into English.\n",
        "\n",
        "<br><span style=\"font-size: 16px;\">\n",
        "\n",
        "The choice to adapt a transformer model for this project stems from the model’s capability to grasp the intricate dynamics between word connections and positions essential for translating and predicting sequences accurately. While the primary goal in the tutorial was translation, the foundational concepts are directly applicable to my project. However, some adjustments are necessary to tailor the model to the specific needs of this task. For instance, unlike the tutorial where positional encoding is crucial, our input sequences are shuffled, rendering traditional positional encodings irrelevant. This necessitates modifications in the embedding process.\n",
        "\n",
        "<br><span style=\"font-size: 16px;\">\n",
        "\n",
        "Additionally, the architecture needs to accommodate dual inputs during training(the shuffled and the correct order of sentences) and predict the ordered sequence with a right shift (i.e., removing the first token and adding a padding token at the end to maintain sequence length). This setup poses unique challenges in redesigning the prediction process typically used in transformers, which usually predict one word at a time. To effectively manage this aspect, we will implement an inference mechanism that allows the model to predict the sequence one word at a time. This strategic modification is aimed at enhancing the model’s ability to accurately reconstruct ordered sequences from their shuffled counterparts.\n",
        "\n",
        "<br><span style=\"font-size: 16px;\">\n",
        "\n",
        "By leveraging the advanced capabilities of transformers and making necessary adaptations, this project aims to significantly improve upon the limitations encountered with simpler RNN and LSTM approaches.\n",
        "<br><span style=\"font-size: 16px;\">\n"
      ]
    },
    {
      "cell_type": "markdown",
      "metadata": {
        "id": "XAzsyyz-pqle"
      },
      "source": [
        "# **Data Pre-proccesing**"
      ]
    },
    {
      "cell_type": "markdown",
      "metadata": {
        "id": "TwQoYbYOarpo"
      },
      "source": [
        "We iniatialize our data for splitting them in test and train data. A part (10%) of the train data will be used for validation."
      ]
    },
    {
      "cell_type": "code",
      "execution_count": null,
      "metadata": {
        "id": "26JMggwDaxCf"
      },
      "outputs": [],
      "source": [
        "import numpy as np\n",
        "\n",
        "# Make a random permutation of training and test set\n",
        "np.random.seed(42)\n",
        "# Shuffle the all data\n",
        "shuffled_indices = np.random.permutation(len(original_data))\n",
        "shuffled_data = original_data[shuffled_indices]"
      ]
    },
    {
      "cell_type": "markdown",
      "metadata": {
        "id": "nGTbLWipa7X-"
      },
      "source": [
        "**Test Data**"
      ]
    },
    {
      "cell_type": "code",
      "execution_count": null,
      "metadata": {
        "id": "Bm5c4OWJa4ug"
      },
      "outputs": [],
      "source": [
        "test_generator = DataGenerator(shuffled_data[220000:])"
      ]
    },
    {
      "cell_type": "markdown",
      "metadata": {
        "id": "LSboWYwYa-BQ"
      },
      "source": [
        "**Train Data**\n",
        "\n",
        "As outlined in the introduction, the data needs to be shifted for the training of our model. Initially, using a generator for this purpose wasn't very intuitive for me, so I opted to gather all the shuffled and ordered data into arrays instead. The function below demonstrates how to split the data into x_shuffle and x_ordered arrays, and also shifts the ordered data to create a y_shifted array. This approach streamlines the data preparation phase for our modeling needs."
      ]
    },
    {
      "cell_type": "code",
      "execution_count": null,
      "metadata": {
        "id": "Bh_177VFqclN"
      },
      "outputs": [],
      "source": [
        "def collect_all_batches(generator):\n",
        "    x_shuffled, x_ordered = [], []\n",
        "    # Iterate over each batch in the generator\n",
        "    for i in range(len(generator)):\n",
        "        x_batch, y_batch = generator[i]\n",
        "        x_shuffled.append(x_batch)  # Collect shuffled input batches\n",
        "        x_ordered.append(y_batch)  # Collect ordered input batches\n",
        "\n",
        "    # Convert lists to numpy arrays\n",
        "    x_shuffled = np.concatenate(x_shuffled, axis=0)  # Concatenate all shuffled inputs\n",
        "    x_ordered = np.concatenate(x_ordered, axis=0)  # Concatenate all ordered inputs\n",
        "\n",
        "    # Create y_shifted by shifting and adding a zero\n",
        "    y_shifted = np.zeros_like(x_ordered)  # Create an array of zeros with the same shape as x_ordered\n",
        "    y_shifted[:, :-1] = x_ordered[:, 1:]  # Shift elements to the left and lose the first element of each row\n",
        "\n",
        "    return x_shuffled, x_ordered, y_shifted"
      ]
    },
    {
      "cell_type": "code",
      "execution_count": null,
      "metadata": {
        "id": "hZ6aGlZjbStP"
      },
      "outputs": [],
      "source": [
        "# Create an instance of the generator\n",
        "train_generator = DataGenerator(shuffled_data[:220000])\n",
        "\n",
        "# Retrieve all x_train_shuffled, x_train_ordered, and y_train_shifted\n",
        "x_train_shuffled, x_train_ordered, y_train_shifted = collect_all_batches(train_generator)"
      ]
    },
    {
      "cell_type": "code",
      "execution_count": null,
      "metadata": {
        "id": "hamBceQxbGrj",
        "colab": {
          "base_uri": "https://localhost:8080/"
        },
        "outputId": "5455ceaf-83cf-42f4-9857-c73d90a2ed75"
      },
      "outputs": [
        {
          "output_type": "stream",
          "name": "stdout",
          "text": [
            "Shape of x_train_shuffled: (220000, 28)\n",
            "Shape of x_train_ordered: (220000, 28)\n",
            "Shape of y_train_shifted: (220000, 28)\n"
          ]
        }
      ],
      "source": [
        "print(\"Shape of x_train_shuffled:\", x_train_shuffled.shape)\n",
        "print(\"Shape of x_train_ordered:\", x_train_ordered.shape)\n",
        "print(\"Shape of y_train_shifted:\", y_train_shifted.shape)"
      ]
    },
    {
      "cell_type": "markdown",
      "metadata": {
        "id": "aPuScOeKaYtQ"
      },
      "source": [
        "We define the max_tokens, which is the max length of sentence. It is 28 as shown above (also defined in the Dataset section)."
      ]
    },
    {
      "cell_type": "code",
      "execution_count": null,
      "metadata": {
        "id": "VDtvl-6pqclN",
        "colab": {
          "base_uri": "https://localhost:8080/"
        },
        "outputId": "da14b9aa-741a-44e2-fe38-48d9cc6fde9f"
      },
      "outputs": [
        {
          "output_type": "execute_result",
          "data": {
            "text/plain": [
              "28"
            ]
          },
          "metadata": {},
          "execution_count": 17
        }
      ],
      "source": [
        "max_tokens = max([len(x) for x in original_data])\n",
        "max_tokens"
      ]
    },
    {
      "cell_type": "markdown",
      "metadata": {
        "id": "QX4tvByIyRkG"
      },
      "source": [
        "# **The Model**"
      ]
    },
    {
      "cell_type": "markdown",
      "metadata": {
        "id": "5zmcmAgWzgFi"
      },
      "source": [
        "Embeddings play a crucial role in capturing relationships between words, which is essential for decoding meaningful sentences in language models. In a standard transformer model, such as the one designed for translating Portuguese to English, positional embeddings are critical for maintaining the order of inputs, which directly influences the generation of coherent translated sentences.\n",
        "\n",
        "However, in our specific use case where the input consists of shuffled words, the traditional use of positional embeddings in the encoder becomes redundant. Despite this, embeddings are still necessary to capture the semantic relationships between words to ensure the accuracy and effectiveness of the model.\n",
        "\n",
        "To adapt the model to our needs, we will modify the encoder to use a standard embedding layer without positional information for the shuffled inputs. The decoder, on the other hand, will retain the positional embedding since the order of words is essential for reconstructing meaningful sentences.\n",
        "\n",
        "In the original implementation of the transformer model on the TensorFlow tutorial page, both the encoder and decoder utilize positional embeddings integrated within the PositionalEmbedding class. This is specified by initializing self.embedding = tf.keras.layers.Embedding(vocab_size, d_model, mask_zero=True) within the class. For our adjusted model, we'll instead incorporate this embedding layer directly into the transformer's structure for the encoder. This modification not only simplifies the code but also aligns the embedding process with our specific requirements, where the encoder handles shuffled input and the decoder focuses on ordered output.\n",
        "\n",
        "To ensure clarity and maintain the integrity of the original tutorial structure, all functions and classes sourced from the TensorFlow tutorial have been used as is, where applicable. Any modifications or custom adaptations specific to our project requirements are clearly marked within the code using comment blocks denoted by \" ###### CHANGE HERE     ! ###### \".\n",
        "\n",
        "Link to download the model weight :\n",
        "https://drive.google.com/file/d/1wZqiGRVLAcD_Zkfz8ROalDp7OyvMZguR/view?usp=drive_link\n",
        "\n",
        "\n",
        "(It will ask me the authorization, I will be as quick as possible, otherwise here is my email eliottaxel.vigier@studio.unibo.it to contact me directly)."
      ]
    },
    {
      "cell_type": "markdown",
      "metadata": {
        "id": "2ANJmBhXc2ND"
      },
      "source": [
        "In our model we do not have any convolutional layers so we need a function to identify word order. This will be use to that purpose in the PositionalEmbedding class (used in the decoder). We need the function positional_encoding(length, depth) to calculate the embedding vectors."
      ]
    },
    {
      "cell_type": "code",
      "execution_count": null,
      "metadata": {
        "id": "vJGXXi3KqclN"
      },
      "outputs": [],
      "source": [
        "def positional_encoding(length, depth):\n",
        "\n",
        "    depth = depth/2\n",
        "\n",
        "    positions = np.arange(length)[:, np.newaxis]     # (seq, 1)\n",
        "    depths = np.arange(depth)[np.newaxis, :]/depth   # (1, depth)\n",
        "\n",
        "    angle_rates = 1 / (10000**depths)         # (1, depth)\n",
        "    angle_rads = positions * angle_rates      # (pos, depth)\n",
        "\n",
        "    pos_encoding = np.concatenate(\n",
        "        [np.sin(angle_rads), np.cos(angle_rads)],\n",
        "        axis=-1)\n",
        "\n",
        "    return tf.cast(pos_encoding, dtype=tf.float32)"
      ]
    },
    {
      "cell_type": "markdown",
      "metadata": {
        "id": "P3TVaU4K1TYR"
      },
      "source": [
        "Definition of the PositionalEmbedding class used in the decoder. We ajust the definition of the embedding layer which will be defined in our transformer."
      ]
    },
    {
      "cell_type": "code",
      "execution_count": null,
      "metadata": {
        "id": "xgQCCm5fqclN"
      },
      "outputs": [],
      "source": [
        "class PositionalEmbedding(tf.keras.layers.Layer):\n",
        "                                                              #######################################\n",
        "    def __init__(self, vocab_size, d_model, embedding_layer): ########## CHANGE HERE   ! ############\n",
        "                                                              #######################################\n",
        "        super().__init__()\n",
        "        self.d_model = d_model\n",
        "\n",
        "        #######################################\n",
        "        ########## CHANGE HERE   ! ############\n",
        "        #######################################\n",
        "        self.embedding = embedding_layer\n",
        "        ######################################\n",
        "        ########## END OF CHANGE ! ###########\n",
        "        ######################################\n",
        "\n",
        "        self.pos_encoding = positional_encoding(length=2048, depth=d_model)\n",
        "\n",
        "    def compute_mask(self, *args, **kwargs):\n",
        "\n",
        "        return self.embedding.compute_mask(*args, **kwargs)\n",
        "\n",
        "    def call(self, x):\n",
        "\n",
        "        length = tf.shape(x)[1]\n",
        "        x = self.embedding(x)\n",
        "        x *= tf.math.sqrt(tf.cast(self.d_model, tf.float32))\n",
        "        x += self.pos_encoding[tf.newaxis, :length, :]\n",
        "\n",
        "        return x"
      ]
    },
    {
      "cell_type": "markdown",
      "metadata": {
        "id": "umb4kQi2c6HT"
      },
      "source": [
        " BaseAttention is a simple class that contains the component layers. Each use-case will be implemented as a subclass.\n",
        "\n"
      ]
    },
    {
      "cell_type": "code",
      "execution_count": null,
      "metadata": {
        "id": "JW_tOlpWqclN"
      },
      "outputs": [],
      "source": [
        "class BaseAttention(tf.keras.layers.Layer):\n",
        "\n",
        "    def __init__(self, **kwargs):\n",
        "        super().__init__()\n",
        "        self.mha = tf.keras.layers.MultiHeadAttention(**kwargs)\n",
        "        self.layernorm = tf.keras.layers.LayerNormalization(epsilon=1e-6)\n",
        "        self.add = tf.keras.layers.Add()"
      ]
    },
    {
      "cell_type": "markdown",
      "metadata": {
        "id": "Tb7SrTyXc6jJ"
      },
      "source": [
        "This class is used to create cross-attention layer which is the one who relies/connects the encoder and decoder in the transformer."
      ]
    },
    {
      "cell_type": "code",
      "execution_count": null,
      "metadata": {
        "id": "BBj0mjJaqclO"
      },
      "outputs": [],
      "source": [
        "class CrossAttention(BaseAttention):\n",
        "    def call(self, x, context):\n",
        "        attn_output, att_scores = self.mha(\n",
        "            query=x,\n",
        "            key=context,\n",
        "            value=context,\n",
        "            return_attention_scores=True\n",
        "        )\n",
        "        self.last_attn_scores = att_scores\n",
        "\n",
        "        x = self.add([x, attn_output])\n",
        "        x = self.layernorm(x)\n",
        "        return x"
      ]
    },
    {
      "cell_type": "markdown",
      "metadata": {
        "id": "mXkNEpwNc65S"
      },
      "source": [
        "This layer is responsible for processing the context sequence, and propagating information along its length."
      ]
    },
    {
      "cell_type": "code",
      "execution_count": null,
      "metadata": {
        "id": "TiA-khfiqclO"
      },
      "outputs": [],
      "source": [
        "class GlobalSelfAttention(BaseAttention):\n",
        "\n",
        "    def call(self, x):\n",
        "\n",
        "        attn_output = self.mha(\n",
        "            query=x,\n",
        "            value=x,\n",
        "            key=x\n",
        "        )\n",
        "        x = self.add([x, attn_output])\n",
        "        x = self.layernorm(x)\n",
        "\n",
        "        return x"
      ]
    },
    {
      "cell_type": "markdown",
      "metadata": {
        "id": "lv1mPt7sc7Wy"
      },
      "source": [
        "It is a the same goal as GlobalSelfAttention, but for the outpout sequence."
      ]
    },
    {
      "cell_type": "code",
      "execution_count": null,
      "metadata": {
        "id": "MfasG9JMqclO"
      },
      "outputs": [],
      "source": [
        "class CausalSelfAttention(BaseAttention):\n",
        "\n",
        "  def call(self, x):\n",
        "\n",
        "    attn_output = self.mha(\n",
        "        query=x,\n",
        "        value=x,\n",
        "        key=x,\n",
        "        use_causal_mask = True)\n",
        "    x = self.add([x, attn_output])\n",
        "    x = self.layernorm(x)\n",
        "\n",
        "    return x"
      ]
    },
    {
      "cell_type": "markdown",
      "metadata": {
        "id": "BUX78ep6c7r0"
      },
      "source": [
        "Implementation of the network with two linear layers with a ReLU activation in-between, and then a dropout layer."
      ]
    },
    {
      "cell_type": "code",
      "execution_count": null,
      "metadata": {
        "id": "gah6GriHqclO"
      },
      "outputs": [],
      "source": [
        "class FeedForward(tf.keras.layers.Layer):\n",
        "\n",
        "  def __init__(self, d_model, dff, dropout_rate=0.1):\n",
        "    super().__init__()\n",
        "    self.seq = tf.keras.Sequential([\n",
        "      tf.keras.layers.Dense(dff, activation='relu'),\n",
        "      tf.keras.layers.Dense(d_model),\n",
        "      tf.keras.layers.Dropout(dropout_rate)\n",
        "    ])\n",
        "    self.add = tf.keras.layers.Add()\n",
        "    self.layer_norm = tf.keras.layers.LayerNormalization()\n",
        "\n",
        "  def call(self, x):\n",
        "\n",
        "    x = self.add([x, self.seq(x)])\n",
        "    x = self.layer_norm(x)\n",
        "\n",
        "    return x"
      ]
    },
    {
      "cell_type": "markdown",
      "metadata": {
        "id": "VBu7-T8HdfcM"
      },
      "source": [
        "Definition of the encoder layer. Each of them contains a GlobalSelfAttention and FeedForward layer.\n",
        "\n"
      ]
    },
    {
      "cell_type": "code",
      "execution_count": null,
      "metadata": {
        "id": "1_8AZH3_qclO"
      },
      "outputs": [],
      "source": [
        "class EncoderLayer(tf.keras.layers.Layer):\n",
        "\n",
        "  def __init__(self,*, d_model, num_heads, dff, dropout_rate=0.1):\n",
        "    super().__init__()\n",
        "\n",
        "    self.self_attention = GlobalSelfAttention(\n",
        "        num_heads=num_heads,\n",
        "        key_dim=d_model,\n",
        "        dropout=dropout_rate)\n",
        "\n",
        "    self.ffn = FeedForward(d_model, dff)\n",
        "\n",
        "  def call(self, x):\n",
        "\n",
        "    x = self.self_attention(x)\n",
        "    x = self.ffn(x)\n",
        "\n",
        "    return x"
      ]
    },
    {
      "cell_type": "markdown",
      "metadata": {
        "id": "XgBMtA33df0T"
      },
      "source": [
        "The encoder have a stack of encoder layers. We take care of the ajustement of the embedding_layer."
      ]
    },
    {
      "cell_type": "code",
      "execution_count": null,
      "metadata": {
        "id": "k5kF2tv4qclO"
      },
      "outputs": [],
      "source": [
        "class Encoder(tf.keras.layers.Layer):\n",
        "                                                                                                           #####################################\n",
        "  def __init__(self, num_layers, d_model, embedding_layer, num_heads, dff, vocab_size, dropout_rate=0.1):  ########## CHANGE HERE ! ############\n",
        "    super().__init__()                                                                                     #####################################\n",
        "\n",
        "    self.d_model = d_model\n",
        "    self.num_layers = num_layers\n",
        "\n",
        "#######################################\n",
        "########## CHANGE HERE   ! ############\n",
        "#######################################\n",
        "\n",
        "    self.regular_embedding = embedding_layer\n",
        "\n",
        "######################################\n",
        "########## END OF CHANGE ! ###########\n",
        "######################################\n",
        "\n",
        "    self.enc_layers = [\n",
        "        EncoderLayer(d_model=d_model,\n",
        "                     num_heads=num_heads,\n",
        "                     dff=dff,\n",
        "                     dropout_rate=dropout_rate)\n",
        "        for _ in range(num_layers)]\n",
        "    self.dropout = tf.keras.layers.Dropout(dropout_rate)\n",
        "\n",
        "  def call(self, x):\n",
        "    # `x` is token-IDs shape: (batch, seq_len)                               #####################################\n",
        "    x = self.regular_embedding(x)  # Shape `(batch_size, seq_len, d_model)`. ########## CHANGE HERE ! ############\n",
        "                                                                             #####################################\n",
        "    # Add dropout.\n",
        "    x = self.dropout(x)\n",
        "\n",
        "    for i in range(self.num_layers):\n",
        "      x = self.enc_layers[i](x)\n",
        "\n",
        "    return x  # Shape `(batch_size, seq_len, d_model)`."
      ]
    },
    {
      "cell_type": "markdown",
      "metadata": {
        "id": "NGCqA2eOdgcO"
      },
      "source": [
        "\n",
        "Definition of the decoder layer. Each of them containing a CausalSelfAttention, a CrossAttention, and FeedForward layer."
      ]
    },
    {
      "cell_type": "code",
      "execution_count": null,
      "metadata": {
        "id": "aqdhk1-kqclO"
      },
      "outputs": [],
      "source": [
        "class DecoderLayer(tf.keras.layers.Layer):\n",
        "\n",
        "  def __init__(self, *, d_model, num_heads, dff, dropout_rate=0.1):\n",
        "\n",
        "    super(DecoderLayer, self).__init__()\n",
        "\n",
        "    self.causal_self_attention = CausalSelfAttention(\n",
        "        num_heads=num_heads,\n",
        "        key_dim=d_model,\n",
        "        dropout=dropout_rate)\n",
        "\n",
        "    self.cross_attention = CrossAttention(\n",
        "        num_heads=num_heads,\n",
        "        key_dim=d_model,\n",
        "        dropout=dropout_rate)\n",
        "\n",
        "    self.ffn = FeedForward(d_model, dff)\n",
        "\n",
        "  def call(self, x, context):\n",
        "\n",
        "    x = self.causal_self_attention(x=x)\n",
        "    x = self.cross_attention(x=x, context=context)\n",
        "\n",
        "    # Cache the last attention scores are cached for later plotting\n",
        "    self.last_attn_scores = self.cross_attention.last_attn_scores\n",
        "\n",
        "    x = self.ffn(x)  # Shape `(batch_size, seq_len, d_model)`.\n",
        "\n",
        "    return x"
      ]
    },
    {
      "cell_type": "markdown",
      "metadata": {
        "id": "dGb0_rRddg7F"
      },
      "source": [
        "Thee decoder have a stack of DecoderLayer. We take care of the ajustement of the embedding_layer."
      ]
    },
    {
      "cell_type": "code",
      "execution_count": null,
      "metadata": {
        "id": "LYVeFVVBqclR"
      },
      "outputs": [],
      "source": [
        "class Decoder(tf.keras.layers.Layer):\n",
        "                                                                                                          #######################################\n",
        "  def __init__(self, num_layers, d_model, embedding_layer, num_heads, dff, vocab_size, dropout_rate=0.1): ########## CHANGE HERE   ! ############\n",
        "                                                                                                          #######################################\n",
        "    super(Decoder, self).__init__()\n",
        "\n",
        "    self.d_model = d_model\n",
        "    self.num_layers = num_layers\n",
        "\n",
        "    #######################################\n",
        "    ########## CHANGE HERE   ! ############\n",
        "    #######################################\n",
        "\n",
        "    self.pos_embedding = PositionalEmbedding(vocab_size=vocab_size, d_model=d_model, embedding_layer = embedding_layer) ########## CHANGE HERE   ! ############\n",
        "\n",
        "    ######################################\n",
        "    ########## END OF CHANGE ! ###########\n",
        "    ######################################\n",
        "\n",
        "    self.dropout = tf.keras.layers.Dropout(dropout_rate)\n",
        "    self.dec_layers = [\n",
        "        DecoderLayer(d_model=d_model, num_heads=num_heads,\n",
        "                     dff=dff, dropout_rate=dropout_rate)\n",
        "        for _ in range(num_layers)]\n",
        "\n",
        "    self.last_attn_scores = None\n",
        "\n",
        "  def call(self, x, context):\n",
        "    # `x` is token-IDs shape (batch, target_seq_len)\n",
        "    x = self.pos_embedding(x)  # (batch_size, target_seq_len, d_model)\n",
        "\n",
        "    x = self.dropout(x)\n",
        "\n",
        "    for i in range(self.num_layers):\n",
        "      x  = self.dec_layers[i](x, context)\n",
        "\n",
        "    self.last_attn_scores = self.dec_layers[-1].last_attn_scores\n",
        "\n",
        "    # The shape of x is (batch_size, target_seq_len, d_model).\n",
        "    return x"
      ]
    },
    {
      "cell_type": "markdown",
      "metadata": {
        "id": "ZeiLB_pkdhen"
      },
      "source": [
        "Now we can create our Transformer by putting together our Encoder and Decoder. We take care of the ajustement of the embedding_layer."
      ]
    },
    {
      "cell_type": "code",
      "execution_count": null,
      "metadata": {
        "id": "IFArArH4qclR"
      },
      "outputs": [],
      "source": [
        "class Transformer(tf.keras.Model):\n",
        "  def __init__(self, *, num_layers, d_model, num_heads, dff, input_vocab_size, target_vocab_size, dropout_rate=0.1):\n",
        "    super().__init__()\n",
        "\n",
        "    #######################################\n",
        "    ########## CHANGE HERE   ! ############\n",
        "    #######################################\n",
        "\n",
        "    self.embedding_layer = tf.keras.layers.Embedding(input_vocab_size, d_model, mask_zero=True)\n",
        "\n",
        "    ######################################\n",
        "    ########## END OF CHANGE ! ###########\n",
        "    ######################################\n",
        "\n",
        "\n",
        "    self.encoder = Encoder(num_layers=num_layers, d_model=d_model,\n",
        "                           embedding_layer = self.embedding_layer, ########## CHANGE HERE   ! ############\n",
        "                           num_heads=num_heads, dff=dff,\n",
        "                           vocab_size=input_vocab_size,\n",
        "                           dropout_rate=dropout_rate)\n",
        "\n",
        "    self.decoder = Decoder(num_layers=num_layers, d_model=d_model,\n",
        "                           embedding_layer = self.embedding_layer, ########## CHANGE HERE   ! ############\n",
        "                           num_heads=num_heads, dff=dff,\n",
        "                           vocab_size=target_vocab_size,\n",
        "                           dropout_rate=dropout_rate)\n",
        "\n",
        "    self.final_layer = tf.keras.layers.Dense(target_vocab_size)\n",
        "\n",
        "  def call(self, inputs):\n",
        "    # To use a Keras model with `.fit` you must pass all your inputs in the\n",
        "    # first argument.\n",
        "\n",
        "    context, x  = inputs\n",
        "\n",
        "    context = self.encoder(context)  # (batch_size, context_len, d_model)\n",
        "\n",
        "    x = self.decoder(x, context)  # (batch_size, target_len, d_model)\n",
        "\n",
        "    # Final linear layer output.\n",
        "    logits = self.final_layer(x)  # (batch_size, target_len, target_vocab_size)\n",
        "\n",
        "    try:\n",
        "      # Drop the keras mask, so it doesn't scale the losses/metrics.\n",
        "      # b/250038731\n",
        "      del logits._keras_mask\n",
        "    except AttributeError:\n",
        "      pass\n",
        "\n",
        "    # Return the final output and the attention weights.\n",
        "    return logits"
      ]
    },
    {
      "cell_type": "markdown",
      "metadata": {
        "id": "wFzspCH8226P"
      },
      "source": [
        "# **Training**\n"
      ]
    },
    {
      "cell_type": "markdown",
      "metadata": {
        "id": "r7dZCqvMdiJy"
      },
      "source": [
        "Here’s an explanation of each hyperparameter defined for our transformer model:\n",
        "\n",
        "\n",
        "\n",
        "1. num_layers\n",
        "\n",
        "This parameter determines the number of encoder and decoder layers in the transformer. Each layer consists of sub-layers, including multi-head attention mechanisms and feed-forward neural networks.\n",
        "\n",
        "We have increased the number of layers (num_layers = 6) to enhance the model's ability to learn more complex patterns and relationships in the data. This adjustment was made without a constraint on training time, allowing for more depth in the model architecture.\n",
        "\n",
        "\n",
        "\n",
        "2. d_model\n",
        "\n",
        "This is the dimensionality of the input and output of the model layers. It directly affects the size and complexity of the model.\n",
        "\n",
        "We did not change the d_model from a typical size of 128 to ensure the total number of parameters stayed less than 20 million, adhering to our model complexity constraints.\n",
        "\n",
        "\n",
        "\n",
        "3. dff\n",
        "\n",
        "This stands for the dimensionality of the feed-forward network model within each encoder and decoder layer.\n",
        "\n",
        "We kept the dff at 512, a standard size that provides a good balance between computational efficiency and the ability to process complex features in the data.\n",
        "\n",
        "\n",
        "\n",
        "4. num_heads\n",
        "\n",
        "This parameter specifies the number of attention heads in the multi-head attention mechanisms. More heads allow the model to simultaneously attend to different parts of the input sequence, a crucial aspect for understanding nuanced relationships in the data.\n",
        "\n",
        "We increased the number of heads to 10, enhancing the model’s capacity to focus on various aspects of the input data simultaneously. This was feasible as we do not have stringent time constraints for the model training.\n",
        "\n",
        "\n",
        "\n",
        "5. dropout_rate\n",
        "\n",
        "Dropout rate refers to the probability of setting a neuron to zero during the training phase. It is a regularization technique used to prevent overfitting in neural networks.\n",
        "\n",
        "The dropout rate was maintained at 0.1, which is a typical value that helps prevent overfitting without compromising the model's ability to learn from the training data.\n"
      ]
    },
    {
      "cell_type": "code",
      "execution_count": null,
      "metadata": {
        "id": "BZgODziZqclR"
      },
      "outputs": [],
      "source": [
        "# Hyperparameters definition\n",
        "num_layers = 6\n",
        "d_model = 128\n",
        "dff = 512\n",
        "num_heads = 10\n",
        "dropout_rate = 0.1"
      ]
    },
    {
      "cell_type": "markdown",
      "metadata": {
        "id": "We_yG81dkC3b"
      },
      "source": [
        "Adam optimizer with a custom learning rate scheduler."
      ]
    },
    {
      "cell_type": "code",
      "execution_count": null,
      "metadata": {
        "id": "z6O2lJ_MqclR"
      },
      "outputs": [],
      "source": [
        "class CustomSchedule(tf.keras.optimizers.schedules.LearningRateSchedule):\n",
        "  def __init__(self, d_model, warmup_steps=4000):\n",
        "    super().__init__()\n",
        "\n",
        "    self.d_model = d_model\n",
        "    self.d_model = tf.cast(self.d_model, tf.float32)\n",
        "\n",
        "    self.warmup_steps = warmup_steps\n",
        "\n",
        "  def __call__(self, step):\n",
        "    step = tf.cast(step, dtype=tf.float32)\n",
        "    arg1 = tf.math.rsqrt(step)\n",
        "    arg2 = step * (self.warmup_steps ** -1.5)\n",
        "\n",
        "    return tf.math.rsqrt(self.d_model) * tf.math.minimum(arg1, arg2)"
      ]
    },
    {
      "cell_type": "markdown",
      "metadata": {
        "id": "EQDIoRhKkDPg"
      },
      "source": [
        "Implementation of the optimizer."
      ]
    },
    {
      "cell_type": "code",
      "execution_count": null,
      "metadata": {
        "id": "Y8wMsxeHqclR"
      },
      "outputs": [],
      "source": [
        "learning_rate = CustomSchedule(d_model)\n",
        "\n",
        "optimizer = tf.keras.optimizers.Adam(learning_rate, beta_1=0.9, beta_2=0.98,\n",
        "                                     epsilon=1e-9)"
      ]
    },
    {
      "cell_type": "markdown",
      "metadata": {
        "id": "7MX02omSkDr_"
      },
      "source": [
        "We use here a custom loss function because the target sequences are padded, so we are applying a padding mask when we calculate the loss."
      ]
    },
    {
      "cell_type": "code",
      "execution_count": null,
      "metadata": {
        "id": "Q-HdeLlIqclR"
      },
      "outputs": [],
      "source": [
        "def masked_loss(label, pred):\n",
        "  mask = label != 0\n",
        "  loss_object = tf.keras.losses.SparseCategoricalCrossentropy(\n",
        "    from_logits=True, reduction='none')\n",
        "  loss = loss_object(label, pred)\n",
        "\n",
        "  mask = tf.cast(mask, dtype=loss.dtype)\n",
        "  loss *= mask\n",
        "\n",
        "  loss = tf.reduce_sum(loss)/tf.reduce_sum(mask)\n",
        "  return loss\n",
        "\n",
        "\n",
        "def masked_accuracy(label, pred):\n",
        "  pred = tf.argmax(pred, axis=2)\n",
        "  label = tf.cast(label, pred.dtype)\n",
        "  match = label == pred\n",
        "\n",
        "  mask = label != 0\n",
        "\n",
        "  match = match & mask\n",
        "\n",
        "  match = tf.cast(match, dtype=tf.float32)\n",
        "  mask = tf.cast(mask, dtype=tf.float32)\n",
        "  return tf.reduce_sum(match)/tf.reduce_sum(mask)"
      ]
    },
    {
      "cell_type": "markdown",
      "metadata": {
        "id": "QViUXpWjkEWx"
      },
      "source": [
        "Let's iniate the model.\n"
      ]
    },
    {
      "cell_type": "code",
      "execution_count": null,
      "metadata": {
        "id": "9u0hTWHiqclR"
      },
      "outputs": [],
      "source": [
        "transformer = Transformer(num_layers=num_layers, d_model=d_model,\n",
        "                          num_heads=num_heads, dff=dff,\n",
        "                          input_vocab_size=10_000, target_vocab_size=10_000,\n",
        "                          dropout_rate=dropout_rate)"
      ]
    },
    {
      "cell_type": "markdown",
      "metadata": {
        "id": "dgddxQQakEuS"
      },
      "source": [
        "Compilation."
      ]
    },
    {
      "cell_type": "code",
      "execution_count": null,
      "metadata": {
        "id": "EEtYuDH-t2xt"
      },
      "outputs": [],
      "source": [
        "transformer.compile(\n",
        "    loss=masked_loss,\n",
        "    optimizer=optimizer,\n",
        "    metrics=[masked_accuracy])"
      ]
    },
    {
      "cell_type": "markdown",
      "metadata": {
        "id": "qy79vLmnkFbB"
      },
      "source": [
        "Building the model.\n",
        "\n",
        "We also do a summary to see the architecture of the model (16 026 128 < 20M parameters)."
      ]
    },
    {
      "cell_type": "code",
      "execution_count": null,
      "metadata": {
        "id": "lPd-TY9XqclR",
        "colab": {
          "base_uri": "https://localhost:8080/"
        },
        "outputId": "1bc08846-6757-4e22-9a1c-29444e775b8e"
      },
      "outputs": [
        {
          "output_type": "stream",
          "name": "stdout",
          "text": [
            "Model: \"transformer_1\"\n",
            "_________________________________________________________________\n",
            " Layer (type)                Output Shape              Param #   \n",
            "=================================================================\n",
            " embedding_1 (Embedding)     multiple                  1280000   \n",
            "                                                                 \n",
            " encoder_1 (Encoder)         multiple                  6029312   \n",
            "                                                                 \n",
            " decoder_1 (Decoder)         multiple                  9986816   \n",
            "                                                                 \n",
            " dense_49 (Dense)            multiple                  1290000   \n",
            "                                                                 \n",
            "=================================================================\n",
            "Total params: 16026128 (61.13 MB)\n",
            "Trainable params: 16026128 (61.13 MB)\n",
            "Non-trainable params: 0 (0.00 Byte)\n",
            "_________________________________________________________________\n"
          ]
        }
      ],
      "source": [
        "transformer.build(input_shape = [(None, max_tokens), (None, max_tokens)])\n",
        "\n",
        "transformer.summary()"
      ]
    },
    {
      "cell_type": "markdown",
      "metadata": {
        "id": "nBXVQ0QvbyfW"
      },
      "source": [
        "We can now iniate the training.\n"
      ]
    },
    {
      "cell_type": "code",
      "execution_count": null,
      "metadata": {
        "id": "1rERWWQnqclS",
        "colab": {
          "base_uri": "https://localhost:8080/"
        },
        "outputId": "830fd04d-8d82-4296-de41-9f853ed2d7d8"
      },
      "outputs": [
        {
          "output_type": "stream",
          "name": "stdout",
          "text": [
            "Epoch 1/30\n",
            "774/774 [==============================] - 424s 483ms/step - loss: 6.9071 - masked_accuracy: 0.2204 - val_loss: 4.8181 - val_masked_accuracy: 0.3672\n",
            "Epoch 2/30\n",
            "774/774 [==============================] - 371s 479ms/step - loss: 3.7301 - masked_accuracy: 0.4743 - val_loss: 2.4919 - val_masked_accuracy: 0.6117\n",
            "Epoch 3/30\n",
            "774/774 [==============================] - 375s 485ms/step - loss: 2.0843 - masked_accuracy: 0.6431 - val_loss: 1.5492 - val_masked_accuracy: 0.7054\n",
            "Epoch 4/30\n",
            "774/774 [==============================] - 372s 480ms/step - loss: 1.4108 - masked_accuracy: 0.7086 - val_loss: 1.2873 - val_masked_accuracy: 0.7267\n",
            "Epoch 5/30\n",
            "774/774 [==============================] - 375s 485ms/step - loss: 1.1630 - masked_accuracy: 0.7354 - val_loss: 1.0377 - val_masked_accuracy: 0.7620\n",
            "Epoch 6/30\n",
            "774/774 [==============================] - 371s 479ms/step - loss: 1.0222 - masked_accuracy: 0.7550 - val_loss: 0.9299 - val_masked_accuracy: 0.7777\n",
            "Epoch 7/30\n",
            "774/774 [==============================] - 375s 484ms/step - loss: 0.8676 - masked_accuracy: 0.7809 - val_loss: 0.8466 - val_masked_accuracy: 0.7927\n",
            "Epoch 8/30\n",
            "774/774 [==============================] - 375s 484ms/step - loss: 0.7604 - masked_accuracy: 0.8003 - val_loss: 0.7652 - val_masked_accuracy: 0.8072\n",
            "Epoch 9/30\n",
            "774/774 [==============================] - 370s 479ms/step - loss: 0.6798 - masked_accuracy: 0.8156 - val_loss: 0.7189 - val_masked_accuracy: 0.8171\n",
            "Epoch 10/30\n",
            "774/774 [==============================] - 374s 484ms/step - loss: 0.6210 - masked_accuracy: 0.8280 - val_loss: 0.7039 - val_masked_accuracy: 0.8217\n",
            "Epoch 11/30\n",
            "774/774 [==============================] - 375s 484ms/step - loss: 0.5666 - masked_accuracy: 0.8389 - val_loss: 0.6842 - val_masked_accuracy: 0.8249\n",
            "Epoch 12/30\n",
            "774/774 [==============================] - 375s 484ms/step - loss: 0.5245 - masked_accuracy: 0.8484 - val_loss: 0.6900 - val_masked_accuracy: 0.8296\n",
            "Epoch 13/30\n",
            "774/774 [==============================] - 375s 484ms/step - loss: 0.4882 - masked_accuracy: 0.8566 - val_loss: 0.6532 - val_masked_accuracy: 0.8357\n",
            "Epoch 14/30\n",
            "774/774 [==============================] - 375s 485ms/step - loss: 0.4620 - masked_accuracy: 0.8629 - val_loss: 0.8416 - val_masked_accuracy: 0.7932\n",
            "Epoch 15/30\n",
            "774/774 [==============================] - 375s 484ms/step - loss: 0.4317 - masked_accuracy: 0.8700 - val_loss: 0.6600 - val_masked_accuracy: 0.8377\n",
            "Epoch 16/30\n",
            "774/774 [==============================] - 371s 479ms/step - loss: 0.4070 - masked_accuracy: 0.8763 - val_loss: 0.6437 - val_masked_accuracy: 0.8422\n",
            "Epoch 17/30\n",
            "774/774 [==============================] - 374s 484ms/step - loss: 0.3852 - masked_accuracy: 0.8819 - val_loss: 0.6438 - val_masked_accuracy: 0.8447\n",
            "Epoch 18/30\n",
            "774/774 [==============================] - 375s 484ms/step - loss: 0.3669 - masked_accuracy: 0.8865 - val_loss: 0.6399 - val_masked_accuracy: 0.8452\n",
            "Epoch 19/30\n",
            "774/774 [==============================] - 371s 479ms/step - loss: 0.3570 - masked_accuracy: 0.8900 - val_loss: 0.6417 - val_masked_accuracy: 0.8467\n",
            "Epoch 20/30\n",
            "774/774 [==============================] - 370s 478ms/step - loss: 0.3355 - masked_accuracy: 0.8951 - val_loss: 0.6308 - val_masked_accuracy: 0.8498\n",
            "Epoch 21/30\n",
            "774/774 [==============================] - 374s 483ms/step - loss: 0.3194 - masked_accuracy: 0.8993 - val_loss: 0.6319 - val_masked_accuracy: 0.8502\n",
            "Epoch 22/30\n",
            "774/774 [==============================] - 375s 484ms/step - loss: 0.3054 - masked_accuracy: 0.9034 - val_loss: 0.6427 - val_masked_accuracy: 0.8520\n",
            "Epoch 23/30\n",
            "774/774 [==============================] - 371s 479ms/step - loss: 0.2924 - masked_accuracy: 0.9068 - val_loss: 0.6366 - val_masked_accuracy: 0.8520\n",
            "Epoch 24/30\n",
            "774/774 [==============================] - 374s 484ms/step - loss: 0.2797 - masked_accuracy: 0.9105 - val_loss: 0.6399 - val_masked_accuracy: 0.8528\n",
            "Epoch 25/30\n",
            "774/774 [==============================] - 371s 479ms/step - loss: 0.2889 - masked_accuracy: 0.9095 - val_loss: 0.6345 - val_masked_accuracy: 0.8538\n",
            "Epoch 26/30\n",
            "774/774 [==============================] - 375s 484ms/step - loss: 0.2653 - masked_accuracy: 0.9147 - val_loss: 0.6536 - val_masked_accuracy: 0.8537\n",
            "Epoch 27/30\n",
            "774/774 [==============================] - 375s 484ms/step - loss: 0.2540 - masked_accuracy: 0.9178 - val_loss: 0.6406 - val_masked_accuracy: 0.8560\n",
            "Epoch 28/30\n",
            "774/774 [==============================] - 370s 479ms/step - loss: 0.2439 - masked_accuracy: 0.9207 - val_loss: 0.6376 - val_masked_accuracy: 0.8566\n",
            "Epoch 29/30\n",
            "774/774 [==============================] - 371s 479ms/step - loss: 0.2368 - masked_accuracy: 0.9233 - val_loss: 0.6520 - val_masked_accuracy: 0.8559\n",
            "Epoch 30/30\n",
            "774/774 [==============================] - 375s 484ms/step - loss: 0.2323 - masked_accuracy: 0.9248 - val_loss: 0.6521 - val_masked_accuracy: 0.8585\n"
          ]
        }
      ],
      "source": [
        "from keras.callbacks import EarlyStopping\n",
        "\n",
        "# Parameters\n",
        "train_data = (x_train_shuffled, x_train_ordered)\n",
        "epochs = 30\n",
        "batch_size= 256\n",
        "stop = EarlyStopping(monitor='val_masked_accuracy', mode='max', verbose=1, patience=4, restore_best_weights=True)\n",
        "validation_split = 0.1\n",
        "\n",
        "# Training\n",
        "history = transformer.fit(train_data, y_train_shifted,\n",
        "                          epochs=epochs, batch_size=batch_size,\n",
        "                          callbacks = [stop], validation_split = validation_split)\n",
        "\n",
        "# Saving the weights of the model\n",
        "transformer.save_weights('model/transformer_weights.ckpt')"
      ]
    },
    {
      "cell_type": "code",
      "execution_count": null,
      "metadata": {
        "id": "mV3XUqZy-G6A",
        "colab": {
          "base_uri": "https://localhost:8080/"
        },
        "outputId": "d098217b-6ab8-4aba-e1de-d1253b63bcd1"
      },
      "outputs": [
        {
          "output_type": "stream",
          "name": "stdout",
          "text": [
            "Model: \"transformer\"\n",
            "_________________________________________________________________\n",
            " Layer (type)                Output Shape              Param #   \n",
            "=================================================================\n",
            " embedding (Embedding)       multiple                  1280000   \n",
            "                                                                 \n",
            " encoder (Encoder)           multiple                  6029312   \n",
            "                                                                 \n",
            " decoder (Decoder)           multiple                  9986816   \n",
            "                                                                 \n",
            " dense_24 (Dense)            multiple                  1290000   \n",
            "                                                                 \n",
            "=================================================================\n",
            "Total params: 16026128 (61.13 MB)\n",
            "Trainable params: 16026128 (61.13 MB)\n",
            "Non-trainable params: 0 (0.00 Byte)\n",
            "_________________________________________________________________\n"
          ]
        }
      ],
      "source": [
        "transformer.summary()"
      ]
    },
    {
      "cell_type": "markdown",
      "metadata": {
        "id": "iQD9kJe5-w3h"
      },
      "source": [
        "A few graphics of the training."
      ]
    },
    {
      "cell_type": "code",
      "execution_count": null,
      "metadata": {
        "id": "g2VXuTvm-i3A"
      },
      "outputs": [],
      "source": [
        "import matplotlib.pyplot as plt\n",
        "\n",
        "# Extracting the data from the history object\n",
        "loss = history.history['loss']\n",
        "val_loss = history.history['val_loss']\n",
        "acc = history.history['masked_accuracy']\n",
        "val_acc = history.history['val_masked_accuracy']"
      ]
    },
    {
      "cell_type": "code",
      "execution_count": null,
      "metadata": {
        "id": "TWQUkQQm-udt",
        "colab": {
          "base_uri": "https://localhost:8080/",
          "height": 487
        },
        "outputId": "bd3b62e7-de50-4be8-c8de-c7fa65900b6f"
      },
      "outputs": [
        {
          "output_type": "display_data",
          "data": {
            "text/plain": [
              "<Figure size 1000x500 with 1 Axes>"
            ],
            "image/png": "[encoded data removed]"
          },
          "metadata": {}
        }
      ],
      "source": [
        "# Plot for loss\n",
        "plt.figure(figsize=(10, 5))\n",
        "plt.plot(loss, label='Training Loss')\n",
        "plt.plot(val_loss, label='Validation Loss')\n",
        "plt.title('Training and Validation Loss')\n",
        "plt.xlabel('Epochs')\n",
        "plt.ylabel('Loss')\n",
        "plt.legend()\n",
        "plt.show()"
      ]
    },
    {
      "cell_type": "code",
      "execution_count": null,
      "metadata": {
        "id": "v3uFDf95-teE",
        "colab": {
          "base_uri": "https://localhost:8080/",
          "height": 487
        },
        "outputId": "cbc0a6ea-bfbf-4a23-f5de-c2810b8c7dd2"
      },
      "outputs": [
        {
          "output_type": "display_data",
          "data": {
            "text/plain": [
              "<Figure size 1000x500 with 1 Axes>"
            ],
            "image/png": "[encoded data removed]"
          },
          "metadata": {}
        }
      ],
      "source": [
        "# Plot for accuracy\n",
        "plt.figure(figsize=(10, 5))\n",
        "plt.plot(acc, label='Training Accuracy')\n",
        "plt.plot(val_acc, label='Validation Accuracy')\n",
        "plt.title('Training and Validation Accuracy')\n",
        "plt.xlabel('Epochs')\n",
        "plt.ylabel('Accuracy')\n",
        "plt.legend()\n",
        "plt.show()"
      ]
    },
    {
      "cell_type": "markdown",
      "metadata": {
        "id": "l3PoU8Yw9ptW"
      },
      "source": [
        "This part was for saving and loading the model weight. It was useful for comparing different hyperamaters definition."
      ]
    },
    {
      "cell_type": "code",
      "execution_count": null,
      "metadata": {
        "id": "jDz7V5-tqclS"
      },
      "outputs": [],
      "source": [
        "# Saving the weights of the model\n",
        "# transformer.save_weights('model/transformer_weights.ckpt')"
      ]
    },
    {
      "cell_type": "code",
      "execution_count": null,
      "metadata": {
        "id": "SPsPMxPqqclS",
        "colab": {
          "base_uri": "https://localhost:8080/"
        },
        "outputId": "be752315-36fa-49a7-9678-e254a7f776d9"
      },
      "outputs": [
        {
          "output_type": "stream",
          "name": "stdout",
          "text": [
            "Mounted at /content/drive\n",
            "Archive:  model.zip\n",
            "  inflating: model/checkpoint        \n",
            "  inflating: model/transformer_weights.ckpt.data-00000-of-00001  \n",
            "  inflating: model/transformer_weights.ckpt.index  \n"
          ]
        }
      ],
      "source": [
        "# from google.colab import drive\n",
        "# drive.mount('/content/drive')\n",
        "\n",
        "# !cp -r /content/drive/MyDrive/AssignmentsIPCV/model.zip ./\n",
        "# !unzip model.zip"
      ]
    },
    {
      "cell_type": "code",
      "execution_count": null,
      "metadata": {
        "id": "nONeGn95qclS",
        "colab": {
          "base_uri": "https://localhost:8080/"
        },
        "outputId": "1c41b278-ea5c-4743-b192-cf1a779523c5"
      },
      "outputs": [
        {
          "output_type": "execute_result",
          "data": {
            "text/plain": [
              "<tensorflow.python.checkpoint.checkpoint.CheckpointLoadStatus at 0x7b02ddbd8eb0>"
            ]
          },
          "metadata": {},
          "execution_count": 80
        }
      ],
      "source": [
        "# # Loading the weights of the model\n",
        "# transformer.load_weights('model/transformer_weights.ckpt')"
      ]
    },
    {
      "cell_type": "code",
      "source": [
        "transformer.summary()"
      ],
      "metadata": {
        "colab": {
          "base_uri": "https://localhost:8080/"
        },
        "id": "Agh63oOAWb48",
        "outputId": "af3413b7-6553-454d-e0f7-c606cdc714be"
      },
      "execution_count": null,
      "outputs": [
        {
          "output_type": "stream",
          "name": "stdout",
          "text": [
            "Model: \"transformer_1\"\n",
            "_________________________________________________________________\n",
            " Layer (type)                Output Shape              Param #   \n",
            "=================================================================\n",
            " embedding_1 (Embedding)     multiple                  1280000   \n",
            "                                                                 \n",
            " encoder_1 (Encoder)         multiple                  6029312   \n",
            "                                                                 \n",
            " decoder_1 (Decoder)         multiple                  9986816   \n",
            "                                                                 \n",
            " dense_49 (Dense)            multiple                  1290000   \n",
            "                                                                 \n",
            "=================================================================\n",
            "Total params: 16026128 (61.13 MB)\n",
            "Trainable params: 16026128 (61.13 MB)\n",
            "Non-trainable params: 0 (0.00 Byte)\n",
            "_________________________________________________________________\n"
          ]
        }
      ]
    },
    {
      "cell_type": "markdown",
      "metadata": {
        "id": "Atefh-iq8Eyj"
      },
      "source": [
        "# **Prediction with inference and Score metric**"
      ]
    },
    {
      "cell_type": "markdown",
      "metadata": {
        "id": "xZxSoW__l1_V"
      },
      "source": [
        "The Reorder class encapsulates a process of conducting inference with a transformer model to restore the correct order of shuffled tokens within a sequence. Upon initialization with a transformer and a tokenizer, and when called with a batch of shuffled tokens, the class systematically predicts and constructs a coherent sequence starting with a predefined start token. Throughout the inference process, it iteratively selects the most probable next token based on the transformer's predictions, appending it to the output and removing it from the pool of remaining tokens to avoid repetition. This continues until all tokens are utilized or the sequence is terminated with an end token, thereby reconstructing the original sequence from its disordered state."
      ]
    },
    {
      "cell_type": "code",
      "execution_count": null,
      "metadata": {
        "id": "cnawk4gWqclS"
      },
      "outputs": [],
      "source": [
        "import keras\n",
        "\n",
        "class Reorder(tf.Module):\n",
        "    def __init__(self, transformer):\n",
        "        self.transformer = transformer\n",
        "        self.start_token = 3\n",
        "        self.end_token = 2\n",
        "\n",
        "    # A list of list of all the different tokens of a each sentences\n",
        "    def prepare_tokens(self, shuffled_tokens_batch):\n",
        "        # Prepare token lists by filtering out start and end tokens\n",
        "        all_tokens_per_sentence_list = []\n",
        "\n",
        "        for shuffled_tokens in shuffled_tokens_batch:\n",
        "\n",
        "            all_tokens_one_sentence = []\n",
        "\n",
        "            for token in shuffled_tokens:\n",
        "\n",
        "                if token not in [self.start_token, self.end_token]:\n",
        "\n",
        "                    all_tokens_one_sentence.append(token)\n",
        "            # Append the list of tokens for one sentence directly to the main list\n",
        "            all_tokens_per_sentence_list.append(all_tokens_one_sentence)\n",
        "\n",
        "        return all_tokens_per_sentence_list\n",
        "\n",
        "\n",
        "    def __call__(self, shuffled_tokens_batch, max_length=max_tokens):\n",
        "\n",
        "        # all the tokens for the predictions excepts the start and end ones. All the possible tokens for each shuffle_tokens. The model will predict which one to use.\n",
        "        all_tokens = self.prepare_tokens(shuffled_tokens_batch)\n",
        "\n",
        "        # Encoder input\n",
        "        encoder_input = shuffled_tokens_batch\n",
        "\n",
        "        # Future output : reordered future predictions. They need to start with the start token 2, it is not in the prediction model. Will be use for the decoder input.\n",
        "        output = []\n",
        "        # batch size is the number of inputs ie size of the batch defined in the test_generator.\n",
        "        batch_size = len(shuffled_tokens_batch)\n",
        "        for i in range(batch_size):\n",
        "\n",
        "          token_sentence = []\n",
        "          token_sentence.append(self.start_token)\n",
        "          output.append(token_sentence)\n",
        "\n",
        "\n",
        "        # The transformer will predict word by word.\n",
        "        for token in range(1, max_length): # since there is token start already.\n",
        "            # The decoder has only the token start at the beginning and then earn one by one a token at each iteration.\n",
        "            decoder_input = np.array(tf.convert_to_tensor(output))\n",
        "            # Calculating the predictions for all tokens\n",
        "            predictions = np.array(self.transformer((encoder_input, decoder_input), training = False))\n",
        "            predictions = predictions[:, -1, :]\n",
        "\n",
        "            # looping on all sentences of the batch and predicting one next token for each of them\n",
        "            for sentence in range(batch_size):\n",
        "\n",
        "                # Checking if all the tokens are already predicted\n",
        "                if len(all_tokens[sentence]) != 0:\n",
        "\n",
        "                  # If not all the tokens are already predicted, we calculated the probabilties of each token of the model\n",
        "                  all_tokens_pred_prob = predictions[sentence, np.array(all_tokens[sentence])]\n",
        "                  # We take the best one\n",
        "                  pred_token_index = np.argmax(all_tokens_pred_prob)\n",
        "                  # Store the value\n",
        "                  pred_token = all_tokens[sentence][pred_token_index]\n",
        "                  # Remove the index to not predict it again\n",
        "                  all_tokens[sentence].pop(pred_token_index)\n",
        "\n",
        "                else:\n",
        "                  # If we have predict all the tokens, we can end there and put the end token 3\n",
        "                  pred_token = self.end_token\n",
        "\n",
        "                # We add the token to our final output which is not finish yet\n",
        "                output[sentence].append(pred_token)\n",
        "\n",
        "        # To have a sentence\n",
        "        sentence_output = detokenizer(output)\n",
        "\n",
        "        return sentence_output"
      ]
    },
    {
      "cell_type": "markdown",
      "metadata": {
        "id": "ugVFjSWel9uw"
      },
      "source": [
        "We need a function to have the correct format to calculate the score metric. We use clear_sentence(sentence) to remove < start > and < end >. It also replaces < comma > by \",\"."
      ]
    },
    {
      "cell_type": "code",
      "execution_count": null,
      "metadata": {
        "id": "4L_qNkRzqclS"
      },
      "outputs": [],
      "source": [
        "# Have a good format for the final metrics\n",
        "def clear_sentence(sentence):\n",
        "    sentence = sentence.replace('<start>', '')\n",
        "    sentence = sentence.replace('<end>', '')\n",
        "    sentence = sentence.replace('<comma>', ',')\n",
        "    sentence = sentence.strip()\n",
        "    return sentence"
      ]
    },
    {
      "cell_type": "markdown",
      "source": [
        "We have this function to know the number of word in a string."
      ],
      "metadata": {
        "id": "NjcwUOJMYc4m"
      }
    },
    {
      "cell_type": "code",
      "source": [
        "def count_words(text):\n",
        "    # Split the string into segments based on whitespace, then filter out non-alphabetic 'words'\n",
        "    words = text.split()\n",
        "    alphabetic_words = [word for word in words if word.isalpha()]\n",
        "    return len(alphabetic_words)"
      ],
      "metadata": {
        "id": "G9sdPh5TXfnL"
      },
      "execution_count": null,
      "outputs": []
    },
    {
      "cell_type": "markdown",
      "metadata": {
        "id": "m9KQW06P_sSg"
      },
      "source": [
        "We can now use the model on our test data."
      ]
    },
    {
      "cell_type": "code",
      "execution_count": null,
      "metadata": {
        "id": "SEn39giwqclS",
        "colab": {
          "base_uri": "https://localhost:8080/"
        },
        "outputId": "5973aeaf-6e79-462d-f9a8-80bd9b814238"
      },
      "outputs": [
        {
          "output_type": "stream",
          "name": "stdout",
          "text": [
            "Mean score for 1000 sentences : 0.5457419093809865\n",
            "Mean score for 2000 sentences : 0.5532498554280788\n",
            "Mean score for 3000 sentences : 0.5492981429502267\n",
            "Mean score for 4000 sentences : 0.5470289763145819\n",
            "Mean score for 5000 sentences : 0.5477660117011418\n",
            "Mean score for 6000 sentences : 0.5472545439179557\n",
            "Mean score for 6400 sentences :0.5476241341062792\n"
          ]
        }
      ],
      "source": [
        "def predictions(number_of_batch):\n",
        "\n",
        "  batch_size = 32 # written in the dataGenerator class\n",
        "  score_list = []\n",
        "  number_of_test_done = 0\n",
        "  sum_score = 0\n",
        "  count_words_list = []\n",
        "\n",
        "  reorderer = Reorder(transformer)\n",
        "\n",
        "  for batch in range(number_of_batch):\n",
        "\n",
        "      # obtaining shuffle and normal sentences association\n",
        "      x_test, y_test = test_generator.__getitem__(batch)\n",
        "      # to have a sentence\n",
        "      x_test_sentence =  detokenizer(x_test)\n",
        "      y_test_sentence =  detokenizer(y_test)\n",
        "\n",
        "      # prediction on the batch x_test\n",
        "      reordered_token = reorderer(x_test)\n",
        "\n",
        "      for sentence in range(batch_size):\n",
        "\n",
        "          # removal of <start> and <end> and <comma>\n",
        "          shuffled_sentence = clear_sentence(x_test_sentence[sentence])\n",
        "          # print(shuffled_sentence)\n",
        "\n",
        "          # removal of <start> and <end> and <comma>\n",
        "          reodered_sentence = clear_sentence(reordered_token[sentence])\n",
        "          # print(reodered_sentence)\n",
        "\n",
        "          # removal of <start> and <end> and <comma>\n",
        "          original_sentence = clear_sentence(y_test_sentence[sentence])\n",
        "          # print(original_sentence)\n",
        "\n",
        "          # updating the score\n",
        "          score_sentence = score(original_sentence, reodered_sentence)\n",
        "          # print(score_sentence)\n",
        "\n",
        "          score_list.append(score_sentence)\n",
        "          count_words_list.append(count_words(original_sentence))\n",
        "          sum_score = sum_score + score_sentence\n",
        "\n",
        "          number_of_test_done = number_of_test_done + 1\n",
        "\n",
        "          if number_of_test_done % 1000 == 0:\n",
        "            print(f\"Mean score for {number_of_test_done} sentences : {sum_score/number_of_test_done}\")\n",
        "\n",
        "  # final score\n",
        "  mean_score = sum_score/(number_of_test_done)\n",
        "  print(f\"Mean score for {number_of_test_done} sentences :{mean_score}\")\n",
        "  return score_list, count_words_list\n",
        "\n",
        "number_of_batch = 200 # To have 3k test sentences (200 * 32 = 6400)\n",
        "\n",
        "score_list, count_words_list = predictions(number_of_batch)"
      ]
    },
    {
      "cell_type": "markdown",
      "metadata": {
        "id": "vUzm22kn_NBj"
      },
      "source": [
        "Let's have a look to the repartion of our scores.\n",
        "\n",
        "\n"
      ]
    },
    {
      "cell_type": "markdown",
      "source": [
        "# **Analyze of the data**"
      ],
      "metadata": {
        "id": "KjuS3k0aXn77"
      }
    },
    {
      "cell_type": "code",
      "execution_count": null,
      "metadata": {
        "id": "acVdwZEs-9uO",
        "colab": {
          "base_uri": "https://localhost:8080/",
          "height": 410
        },
        "outputId": "8f7db8a4-a86f-418f-b069-c0b6b099510e"
      },
      "outputs": [
        {
          "output_type": "display_data",
          "data": {
            "text/plain": [
              "<Figure size 800x400 with 1 Axes>"
            ],
            "image/png": "[encoded data removed]"
          },
          "metadata": {}
        }
      ],
      "source": [
        "import matplotlib.pyplot as plt\n",
        "\n",
        "plt.figure(figsize=(8, 4))  # Set the figure size\n",
        "plt.hist(score_list, bins=10, color='blue', edgecolor='black')  # Create histogram\n",
        "plt.title('Histogram of Scores')  # Add a title\n",
        "plt.xlabel('Score')  # Label the x-axis\n",
        "plt.ylabel('Frequency')  # Label the y-axis\n",
        "plt.show()  # Display the histogram"
      ]
    },
    {
      "cell_type": "code",
      "source": [
        "import seaborn as sns\n",
        "import pandas as pd\n",
        "\n",
        "data = pd.DataFrame({\n",
        "    'Sentence Length': count_words_list,\n",
        "    'Score': score_list\n",
        "})\n",
        "\n",
        "plt.figure(figsize=(12, 8))\n",
        "sns.boxplot(x='Sentence Length', y='Score', data=data)\n",
        "plt.title('Distribution of Scores by Sentence Length')\n",
        "plt.show()"
      ],
      "metadata": {
        "colab": {
          "base_uri": "https://localhost:8080/",
          "height": 718
        },
        "id": "BMn3rtZ8dgz1",
        "outputId": "e0a0b837-edd1-44b9-b892-2bee04f0b268"
      },
      "execution_count": null,
      "outputs": [
        {
          "output_type": "display_data",
          "data": {
            "text/plain": [
              "<Figure size 1200x800 with 1 Axes>"
            ],
            "image/png": "[encoded data removed]"
          },
          "metadata": {}
        }
      ]
    },
    {
      "cell_type": "markdown",
      "source": [
        "The box plot data reveals a clear trend: as sentence length increases, the median score tends to decrease, particularly noticeable from sentence lengths of 15 words (below ~ 0.3) and beyond. This trend suggests that the model's performance degrades with increasing sentence complexity, which is often associated with longer sentences.\n",
        "\n",
        "It also shows a wider spread in scores for longer sentences, with lower quartiles dipping more significantly as sentence length increases. This increased spread indicates growing inconsistency in the model’s performance as sentences become longer."
      ],
      "metadata": {
        "id": "EP5sCkGGukGL"
      }
    },
    {
      "cell_type": "code",
      "source": [
        "count_of_ones = score_list.count(1)\n",
        "print(f\"Number of scores equal to 1: {count_of_ones} for {len(score_list)} sentences.\" )\n",
        "print(f\"Percentage in all the data: {(count_of_ones / len(score_list)) * 100:.2f}%\")\n",
        "\n",
        "# Calculate the percentage of scores less than 0.5\n",
        "count_below_half = sum(1 for score in score_list if score < 0.5)\n",
        "percentage_below_half = (count_below_half / len(score_list)) * 100\n",
        "print(f\"Percentage of scores less than 0.5: {percentage_below_half:.2f}%\")"
      ],
      "metadata": {
        "colab": {
          "base_uri": "https://localhost:8080/"
        },
        "id": "d54Zmt5xiRf2",
        "outputId": "ca39168e-38a5-4ca2-e635-22d954d5d43b"
      },
      "execution_count": null,
      "outputs": [
        {
          "output_type": "stream",
          "name": "stdout",
          "text": [
            "Number of scores equal to 1: 1607 for 6400 sentences.\n",
            "Percentage in all the data: 25.11%\n",
            "Percentage of scores less than 0.5: 56.80%\n"
          ]
        }
      ]
    },
    {
      "cell_type": "markdown",
      "source": [
        "While 56.80% of the scores fall below 0.5, indicating that a substantial number of predictions substantially deviate from the target configurations, the overall average score of approximately 0.548 reflects a moderate performance across the dataset. This suggests that when the model does perform above the 50% threshold, its predictions are generally more accurate and closer to the target (closer to 1). This dichotomy underscores the need for improvements in handling complex sentence structures probably with more atypical/difficult linguistic patterns.\n",
        "\n",
        "It is also shown with the 25.11% predictions of score 1. This demonstrates the model's strong capability to reorder sentence components precisely, especially when it predicts with more than 50% score accuracy.\n",
        "\n",
        "We clearly see all this on the histogram.\n"
      ],
      "metadata": {
        "id": "arEb1xYhXuLM"
      }
    },
    {
      "cell_type": "markdown",
      "source": [
        "# **Conclusion**"
      ],
      "metadata": {
        "id": "kqk_30fE4-Wt"
      }
    },
    {
      "cell_type": "markdown",
      "source": [
        "The Transformer model shows moderate overall performance with an average score of approximately 0.548, indicating a balanced capability in reordering sentences accurately. However, the significant spread and lower scores in cases with longer sentence lengths (particularly evident for sentences over 15 words) reveal that the model struggles with complex structures and increased sentence length. This degradation is highlighted by 56.80% of scores falling below 0.5, underscoring a substantial deviation from target configurations in more than half of the cases.\n",
        "\n",
        "Yet, the model has demonstrated a strong capacity to perfectly reorder sentences in about 25.11% of the instances, showcasing its potential effectiveness, particularly when scores exceed the 50% threshold. To address the noted inconsistencies and enhance the model's handling of complex and atypical linguistic patterns, several strategies could be considered:\n",
        "\n",
        "Post-Processing: Implementing additional steps after initial predictions to refine and correct outputs.\n",
        "\n",
        "Data Augmentation: Expanding the training dataset with variations of existing data or entirely new data to improve the model's learning scope and robustness.\n",
        "\n",
        "Model Parameters: Adjusting or tuning the model's parameters to optimize performance for longer and more complex sentences.\n",
        "\n",
        "Pre-trained Models: Leveraging pre-trained models as a starting point to benefit from previously learned linguistic patterns and structures.\n",
        "\n",
        "These enhancements could significantly boost the model’s accuracy.\n"
      ],
      "metadata": {
        "id": "Q3Yh5y7B4vrv"
      }
    }
  ],
  "metadata": {
    "colab": {
      "provenance": []
    },
    "kernelspec": {
      "display_name": "Python 3",
      "name": "python3"
    },
    "language_info": {
      "codemirror_mode": {
        "name": "ipython",
        "version": 3
      },
      "file_extension": ".py",
      "mimetype": "text/x-python",
      "name": "python",
      "nbconvert_exporter": "python",
      "pygments_lexer": "ipython3",
      "version": "3.11.9"
    },
    "widgets": {
      "application/vnd.jupyter.widget-state+json": {
        "167940be85c14a83b78e30d9022df6f8": {
          "model_module": "@jupyter-widgets/controls",
          "model_name": "HBoxModel",
          "model_module_version": "1.5.0",
          "state": {
            "_dom_classes": [],
            "_model_module": "@jupyter-widgets/controls",
            "_model_module_version": "1.5.0",
            "_model_name": "HBoxModel",
            "_view_count": null,
            "_view_module": "@jupyter-widgets/controls",
            "_view_module_version": "1.5.0",
            "_view_name": "HBoxView",
            "box_style": "",
            "children": [
              "IPY_MODEL_749899cb42cd4043aeaa7ec4c1f8b1b0",
              "IPY_MODEL_dc60dc8b86794402a9ebd871d176739b",
              "IPY_MODEL_b8aa19b24c7a472bb0abb639e5f9ffdb"
            ],
            "layout": "IPY_MODEL_6db8be15d2e94abe8ecebec11ee2ed85"
          }
        },
        "749899cb42cd4043aeaa7ec4c1f8b1b0": {
          "model_module": "@jupyter-widgets/controls",
          "model_name": "HTMLModel",
          "model_module_version": "1.5.0",
          "state": {
            "_dom_classes": [],
            "_model_module": "@jupyter-widgets/controls",
            "_model_module_version": "1.5.0",
            "_model_name": "HTMLModel",
            "_view_count": null,
            "_view_module": "@jupyter-widgets/controls",
            "_view_module_version": "1.5.0",
            "_view_name": "HTMLView",
            "description": "",
            "description_tooltip": null,
            "layout": "IPY_MODEL_4fc40f8eb6554d8e92e51cbb524b52b3",
            "placeholder": "​",
            "style": "IPY_MODEL_1638caf5cef04b0fb022153d3a62079d",
            "value": "Downloading builder script: 100%"
          }
        },
        "dc60dc8b86794402a9ebd871d176739b": {
          "model_module": "@jupyter-widgets/controls",
          "model_name": "FloatProgressModel",
          "model_module_version": "1.5.0",
          "state": {
            "_dom_classes": [],
            "_model_module": "@jupyter-widgets/controls",
            "_model_module_version": "1.5.0",
            "_model_name": "FloatProgressModel",
            "_view_count": null,
            "_view_module": "@jupyter-widgets/controls",
            "_view_module_version": "1.5.0",
            "_view_name": "ProgressView",
            "bar_style": "success",
            "description": "",
            "description_tooltip": null,
            "layout": "IPY_MODEL_449e0573f6fd4b7ea698150ea3e1b267",
            "max": 8643,
            "min": 0,
            "orientation": "horizontal",
            "style": "IPY_MODEL_e27040c5140541afbb4bb410f316a0ee",
            "value": 8643
          }
        },
        "b8aa19b24c7a472bb0abb639e5f9ffdb": {
          "model_module": "@jupyter-widgets/controls",
          "model_name": "HTMLModel",
          "model_module_version": "1.5.0",
          "state": {
            "_dom_classes": [],
            "_model_module": "@jupyter-widgets/controls",
            "_model_module_version": "1.5.0",
            "_model_name": "HTMLModel",
            "_view_count": null,
            "_view_module": "@jupyter-widgets/controls",
            "_view_module_version": "1.5.0",
            "_view_name": "HTMLView",
            "description": "",
            "description_tooltip": null,
            "layout": "IPY_MODEL_9f21f68d102545b08a2d8911ae5bc46b",
            "placeholder": "​",
            "style": "IPY_MODEL_de7440b1d1b04c45bae01f93105019bf",
            "value": " 8.64k/8.64k [00:00&lt;00:00, 91.9kB/s]"
          }
        },
        "6db8be15d2e94abe8ecebec11ee2ed85": {
          "model_module": "@jupyter-widgets/base",
          "model_name": "LayoutModel",
          "model_module_version": "1.2.0",
          "state": {
            "_model_module": "@jupyter-widgets/base",
            "_model_module_version": "1.2.0",
            "_model_name": "LayoutModel",
            "_view_count": null,
            "_view_module": "@jupyter-widgets/base",
            "_view_module_version": "1.2.0",
            "_view_name": "LayoutView",
            "align_content": null,
            "align_items": null,
            "align_self": null,
            "border": null,
            "bottom": null,
            "display": null,
            "flex": null,
            "flex_flow": null,
            "grid_area": null,
            "grid_auto_columns": null,
            "grid_auto_flow": null,
            "grid_auto_rows": null,
            "grid_column": null,
            "grid_gap": null,
            "grid_row": null,
            "grid_template_areas": null,
            "grid_template_columns": null,
            "grid_template_rows": null,
            "height": null,
            "justify_content": null,
            "justify_items": null,
            "left": null,
            "margin": null,
            "max_height": null,
            "max_width": null,
            "min_height": null,
            "min_width": null,
            "object_fit": null,
            "object_position": null,
            "order": null,
            "overflow": null,
            "overflow_x": null,
            "overflow_y": null,
            "padding": null,
            "right": null,
            "top": null,
            "visibility": null,
            "width": null
          }
        },
        "4fc40f8eb6554d8e92e51cbb524b52b3": {
          "model_module": "@jupyter-widgets/base",
          "model_name": "LayoutModel",
          "model_module_version": "1.2.0",
          "state": {
            "_model_module": "@jupyter-widgets/base",
            "_model_module_version": "1.2.0",
            "_model_name": "LayoutModel",
            "_view_count": null,
            "_view_module": "@jupyter-widgets/base",
            "_view_module_version": "1.2.0",
            "_view_name": "LayoutView",
            "align_content": null,
            "align_items": null,
            "align_self": null,
            "border": null,
            "bottom": null,
            "display": null,
            "flex": null,
            "flex_flow": null,
            "grid_area": null,
            "grid_auto_columns": null,
            "grid_auto_flow": null,
            "grid_auto_rows": null,
            "grid_column": null,
            "grid_gap": null,
            "grid_row": null,
            "grid_template_areas": null,
            "grid_template_columns": null,
            "grid_template_rows": null,
            "height": null,
            "justify_content": null,
            "justify_items": null,
            "left": null,
            "margin": null,
            "max_height": null,
            "max_width": null,
            "min_height": null,
            "min_width": null,
            "object_fit": null,
            "object_position": null,
            "order": null,
            "overflow": null,
            "overflow_x": null,
            "overflow_y": null,
            "padding": null,
            "right": null,
            "top": null,
            "visibility": null,
            "width": null
          }
        },
        "1638caf5cef04b0fb022153d3a62079d": {
          "model_module": "@jupyter-widgets/controls",
          "model_name": "DescriptionStyleModel",
          "model_module_version": "1.5.0",
          "state": {
            "_model_module": "@jupyter-widgets/controls",
            "_model_module_version": "1.5.0",
            "_model_name": "DescriptionStyleModel",
            "_view_count": null,
            "_view_module": "@jupyter-widgets/base",
            "_view_module_version": "1.2.0",
            "_view_name": "StyleView",
            "description_width": ""
          }
        },
        "449e0573f6fd4b7ea698150ea3e1b267": {
          "model_module": "@jupyter-widgets/base",
          "model_name": "LayoutModel",
          "model_module_version": "1.2.0",
          "state": {
            "_model_module": "@jupyter-widgets/base",
            "_model_module_version": "1.2.0",
            "_model_name": "LayoutModel",
            "_view_count": null,
            "_view_module": "@jupyter-widgets/base",
            "_view_module_version": "1.2.0",
            "_view_name": "LayoutView",
            "align_content": null,
            "align_items": null,
            "align_self": null,
            "border": null,
            "bottom": null,
            "display": null,
            "flex": null,
            "flex_flow": null,
            "grid_area": null,
            "grid_auto_columns": null,
            "grid_auto_flow": null,
            "grid_auto_rows": null,
            "grid_column": null,
            "grid_gap": null,
            "grid_row": null,
            "grid_template_areas": null,
            "grid_template_columns": null,
            "grid_template_rows": null,
            "height": null,
            "justify_content": null,
            "justify_items": null,
            "left": null,
            "margin": null,
            "max_height": null,
            "max_width": null,
            "min_height": null,
            "min_width": null,
            "object_fit": null,
            "object_position": null,
            "order": null,
            "overflow": null,
            "overflow_x": null,
            "overflow_y": null,
            "padding": null,
            "right": null,
            "top": null,
            "visibility": null,
            "width": null
          }
        },
        "e27040c5140541afbb4bb410f316a0ee": {
          "model_module": "@jupyter-widgets/controls",
          "model_name": "ProgressStyleModel",
          "model_module_version": "1.5.0",
          "state": {
            "_model_module": "@jupyter-widgets/controls",
            "_model_module_version": "1.5.0",
            "_model_name": "ProgressStyleModel",
            "_view_count": null,
            "_view_module": "@jupyter-widgets/base",
            "_view_module_version": "1.2.0",
            "_view_name": "StyleView",
            "bar_color": null,
            "description_width": ""
          }
        },
        "9f21f68d102545b08a2d8911ae5bc46b": {
          "model_module": "@jupyter-widgets/base",
          "model_name": "LayoutModel",
          "model_module_version": "1.2.0",
          "state": {
            "_model_module": "@jupyter-widgets/base",
            "_model_module_version": "1.2.0",
            "_model_name": "LayoutModel",
            "_view_count": null,
            "_view_module": "@jupyter-widgets/base",
            "_view_module_version": "1.2.0",
            "_view_name": "LayoutView",
            "align_content": null,
            "align_items": null,
            "align_self": null,
            "border": null,
            "bottom": null,
            "display": null,
            "flex": null,
            "flex_flow": null,
            "grid_area": null,
            "grid_auto_columns": null,
            "grid_auto_flow": null,
            "grid_auto_rows": null,
            "grid_column": null,
            "grid_gap": null,
            "grid_row": null,
            "grid_template_areas": null,
            "grid_template_columns": null,
            "grid_template_rows": null,
            "height": null,
            "justify_content": null,
            "justify_items": null,
            "left": null,
            "margin": null,
            "max_height": null,
            "max_width": null,
            "min_height": null,
            "min_width": null,
            "object_fit": null,
            "object_position": null,
            "order": null,
            "overflow": null,
            "overflow_x": null,
            "overflow_y": null,
            "padding": null,
            "right": null,
            "top": null,
            "visibility": null,
            "width": null
          }
        },
        "de7440b1d1b04c45bae01f93105019bf": {
          "model_module": "@jupyter-widgets/controls",
          "model_name": "DescriptionStyleModel",
          "model_module_version": "1.5.0",
          "state": {
            "_model_module": "@jupyter-widgets/controls",
            "_model_module_version": "1.5.0",
            "_model_name": "DescriptionStyleModel",
            "_view_count": null,
            "_view_module": "@jupyter-widgets/base",
            "_view_module_version": "1.2.0",
            "_view_name": "StyleView",
            "description_width": ""
          }
        },
        "0d1a7c5ed426467c9c4b0a1526a983e5": {
          "model_module": "@jupyter-widgets/controls",
          "model_name": "HBoxModel",
          "model_module_version": "1.5.0",
          "state": {
            "_dom_classes": [],
            "_model_module": "@jupyter-widgets/controls",
            "_model_module_version": "1.5.0",
            "_model_name": "HBoxModel",
            "_view_count": null,
            "_view_module": "@jupyter-widgets/controls",
            "_view_module_version": "1.5.0",
            "_view_name": "HBoxView",
            "box_style": "",
            "children": [
              "IPY_MODEL_a852224a92ca4daba04e9a4b7794ee3d",
              "IPY_MODEL_e32a5c91490c4f559aa1c0e9bc319174",
              "IPY_MODEL_5cf5d4a43e274e4bbcd7a8cee1c16261"
            ],
            "layout": "IPY_MODEL_1d3138af83e84d6ebbbe7dc80dbc5665"
          }
        },
        "a852224a92ca4daba04e9a4b7794ee3d": {
          "model_module": "@jupyter-widgets/controls",
          "model_name": "HTMLModel",
          "model_module_version": "1.5.0",
          "state": {
            "_dom_classes": [],
            "_model_module": "@jupyter-widgets/controls",
            "_model_module_version": "1.5.0",
            "_model_name": "HTMLModel",
            "_view_count": null,
            "_view_module": "@jupyter-widgets/controls",
            "_view_module_version": "1.5.0",
            "_view_name": "HTMLView",
            "description": "",
            "description_tooltip": null,
            "layout": "IPY_MODEL_c0df8eec692c441c8df1807215c766d2",
            "placeholder": "​",
            "style": "IPY_MODEL_1fbd4d6874d94faa9b16ab30a5c0fd7f",
            "value": "Downloading readme: 100%"
          }
        },
        "e32a5c91490c4f559aa1c0e9bc319174": {
          "model_module": "@jupyter-widgets/controls",
          "model_name": "FloatProgressModel",
          "model_module_version": "1.5.0",
          "state": {
            "_dom_classes": [],
            "_model_module": "@jupyter-widgets/controls",
            "_model_module_version": "1.5.0",
            "_model_name": "FloatProgressModel",
            "_view_count": null,
            "_view_module": "@jupyter-widgets/controls",
            "_view_module_version": "1.5.0",
            "_view_name": "ProgressView",
            "bar_style": "success",
            "description": "",
            "description_tooltip": null,
            "layout": "IPY_MODEL_ca58e9ed1b4a4fd48e328007e8a30180",
            "max": 11863,
            "min": 0,
            "orientation": "horizontal",
            "style": "IPY_MODEL_977b9869a6694deea221ab702ca2cfb6",
            "value": 11863
          }
        },
        "5cf5d4a43e274e4bbcd7a8cee1c16261": {
          "model_module": "@jupyter-widgets/controls",
          "model_name": "HTMLModel",
          "model_module_version": "1.5.0",
          "state": {
            "_dom_classes": [],
            "_model_module": "@jupyter-widgets/controls",
            "_model_module_version": "1.5.0",
            "_model_name": "HTMLModel",
            "_view_count": null,
            "_view_module": "@jupyter-widgets/controls",
            "_view_module_version": "1.5.0",
            "_view_name": "HTMLView",
            "description": "",
            "description_tooltip": null,
            "layout": "IPY_MODEL_394a3abb1d7f40f1af09173a1b7b4ecd",
            "placeholder": "​",
            "style": "IPY_MODEL_b3409bdfe48c42e38c0b72104e7db42f",
            "value": " 11.9k/11.9k [00:00&lt;00:00, 223kB/s]"
          }
        },
        "1d3138af83e84d6ebbbe7dc80dbc5665": {
          "model_module": "@jupyter-widgets/base",
          "model_name": "LayoutModel",
          "model_module_version": "1.2.0",
          "state": {
            "_model_module": "@jupyter-widgets/base",
            "_model_module_version": "1.2.0",
            "_model_name": "LayoutModel",
            "_view_count": null,
            "_view_module": "@jupyter-widgets/base",
            "_view_module_version": "1.2.0",
            "_view_name": "LayoutView",
            "align_content": null,
            "align_items": null,
            "align_self": null,
            "border": null,
            "bottom": null,
            "display": null,
            "flex": null,
            "flex_flow": null,
            "grid_area": null,
            "grid_auto_columns": null,
            "grid_auto_flow": null,
            "grid_auto_rows": null,
            "grid_column": null,
            "grid_gap": null,
            "grid_row": null,
            "grid_template_areas": null,
            "grid_template_columns": null,
            "grid_template_rows": null,
            "height": null,
            "justify_content": null,
            "justify_items": null,
            "left": null,
            "margin": null,
            "max_height": null,
            "max_width": null,
            "min_height": null,
            "min_width": null,
            "object_fit": null,
            "object_position": null,
            "order": null,
            "overflow": null,
            "overflow_x": null,
            "overflow_y": null,
            "padding": null,
            "right": null,
            "top": null,
            "visibility": null,
            "width": null
          }
        },
        "c0df8eec692c441c8df1807215c766d2": {
          "model_module": "@jupyter-widgets/base",
          "model_name": "LayoutModel",
          "model_module_version": "1.2.0",
          "state": {
            "_model_module": "@jupyter-widgets/base",
            "_model_module_version": "1.2.0",
            "_model_name": "LayoutModel",
            "_view_count": null,
            "_view_module": "@jupyter-widgets/base",
            "_view_module_version": "1.2.0",
            "_view_name": "LayoutView",
            "align_content": null,
            "align_items": null,
            "align_self": null,
            "border": null,
            "bottom": null,
            "display": null,
            "flex": null,
            "flex_flow": null,
            "grid_area": null,
            "grid_auto_columns": null,
            "grid_auto_flow": null,
            "grid_auto_rows": null,
            "grid_column": null,
            "grid_gap": null,
            "grid_row": null,
            "grid_template_areas": null,
            "grid_template_columns": null,
            "grid_template_rows": null,
            "height": null,
            "justify_content": null,
            "justify_items": null,
            "left": null,
            "margin": null,
            "max_height": null,
            "max_width": null,
            "min_height": null,
            "min_width": null,
            "object_fit": null,
            "object_position": null,
            "order": null,
            "overflow": null,
            "overflow_x": null,
            "overflow_y": null,
            "padding": null,
            "right": null,
            "top": null,
            "visibility": null,
            "width": null
          }
        },
        "1fbd4d6874d94faa9b16ab30a5c0fd7f": {
          "model_module": "@jupyter-widgets/controls",
          "model_name": "DescriptionStyleModel",
          "model_module_version": "1.5.0",
          "state": {
            "_model_module": "@jupyter-widgets/controls",
            "_model_module_version": "1.5.0",
            "_model_name": "DescriptionStyleModel",
            "_view_count": null,
            "_view_module": "@jupyter-widgets/base",
            "_view_module_version": "1.2.0",
            "_view_name": "StyleView",
            "description_width": ""
          }
        },
        "ca58e9ed1b4a4fd48e328007e8a30180": {
          "model_module": "@jupyter-widgets/base",
          "model_name": "LayoutModel",
          "model_module_version": "1.2.0",
          "state": {
            "_model_module": "@jupyter-widgets/base",
            "_model_module_version": "1.2.0",
            "_model_name": "LayoutModel",
            "_view_count": null,
            "_view_module": "@jupyter-widgets/base",
            "_view_module_version": "1.2.0",
            "_view_name": "LayoutView",
            "align_content": null,
            "align_items": null,
            "align_self": null,
            "border": null,
            "bottom": null,
            "display": null,
            "flex": null,
            "flex_flow": null,
            "grid_area": null,
            "grid_auto_columns": null,
            "grid_auto_flow": null,
            "grid_auto_rows": null,
            "grid_column": null,
            "grid_gap": null,
            "grid_row": null,
            "grid_template_areas": null,
            "grid_template_columns": null,
            "grid_template_rows": null,
            "height": null,
            "justify_content": null,
            "justify_items": null,
            "left": null,
            "margin": null,
            "max_height": null,
            "max_width": null,
            "min_height": null,
            "min_width": null,
            "object_fit": null,
            "object_position": null,
            "order": null,
            "overflow": null,
            "overflow_x": null,
            "overflow_y": null,
            "padding": null,
            "right": null,
            "top": null,
            "visibility": null,
            "width": null
          }
        },
        "977b9869a6694deea221ab702ca2cfb6": {
          "model_module": "@jupyter-widgets/controls",
          "model_name": "ProgressStyleModel",
          "model_module_version": "1.5.0",
          "state": {
            "_model_module": "@jupyter-widgets/controls",
            "_model_module_version": "1.5.0",
            "_model_name": "ProgressStyleModel",
            "_view_count": null,
            "_view_module": "@jupyter-widgets/base",
            "_view_module_version": "1.2.0",
            "_view_name": "StyleView",
            "bar_color": null,
            "description_width": ""
          }
        },
        "394a3abb1d7f40f1af09173a1b7b4ecd": {
          "model_module": "@jupyter-widgets/base",
          "model_name": "LayoutModel",
          "model_module_version": "1.2.0",
          "state": {
            "_model_module": "@jupyter-widgets/base",
            "_model_module_version": "1.2.0",
            "_model_name": "LayoutModel",
            "_view_count": null,
            "_view_module": "@jupyter-widgets/base",
            "_view_module_version": "1.2.0",
            "_view_name": "LayoutView",
            "align_content": null,
            "align_items": null,
            "align_self": null,
            "border": null,
            "bottom": null,
            "display": null,
            "flex": null,
            "flex_flow": null,
            "grid_area": null,
            "grid_auto_columns": null,
            "grid_auto_flow": null,
            "grid_auto_rows": null,
            "grid_column": null,
            "grid_gap": null,
            "grid_row": null,
            "grid_template_areas": null,
            "grid_template_columns": null,
            "grid_template_rows": null,
            "height": null,
            "justify_content": null,
            "justify_items": null,
            "left": null,
            "margin": null,
            "max_height": null,
            "max_width": null,
            "min_height": null,
            "min_width": null,
            "object_fit": null,
            "object_position": null,
            "order": null,
            "overflow": null,
            "overflow_x": null,
            "overflow_y": null,
            "padding": null,
            "right": null,
            "top": null,
            "visibility": null,
            "width": null
          }
        },
        "b3409bdfe48c42e38c0b72104e7db42f": {
          "model_module": "@jupyter-widgets/controls",
          "model_name": "DescriptionStyleModel",
          "model_module_version": "1.5.0",
          "state": {
            "_model_module": "@jupyter-widgets/controls",
            "_model_module_version": "1.5.0",
            "_model_name": "DescriptionStyleModel",
            "_view_count": null,
            "_view_module": "@jupyter-widgets/base",
            "_view_module_version": "1.2.0",
            "_view_name": "StyleView",
            "description_width": ""
          }
        },
        "e45215b401f34179921a5304c63a3218": {
          "model_module": "@jupyter-widgets/controls",
          "model_name": "HBoxModel",
          "model_module_version": "1.5.0",
          "state": {
            "_dom_classes": [],
            "_model_module": "@jupyter-widgets/controls",
            "_model_module_version": "1.5.0",
            "_model_name": "HBoxModel",
            "_view_count": null,
            "_view_module": "@jupyter-widgets/controls",
            "_view_module_version": "1.5.0",
            "_view_name": "HBoxView",
            "box_style": "",
            "children": [
              "IPY_MODEL_e4a2368ad6f54b82871e9b4653053f2d",
              "IPY_MODEL_e813f5337f54444b8c4ff8b329376d70",
              "IPY_MODEL_33913b848a1a4112a14a876f43594588"
            ],
            "layout": "IPY_MODEL_afda300aefef4eaba51da30ebc2d0cc7"
          }
        },
        "e4a2368ad6f54b82871e9b4653053f2d": {
          "model_module": "@jupyter-widgets/controls",
          "model_name": "HTMLModel",
          "model_module_version": "1.5.0",
          "state": {
            "_dom_classes": [],
            "_model_module": "@jupyter-widgets/controls",
            "_model_module_version": "1.5.0",
            "_model_name": "HTMLModel",
            "_view_count": null,
            "_view_module": "@jupyter-widgets/controls",
            "_view_module_version": "1.5.0",
            "_view_name": "HTMLView",
            "description": "",
            "description_tooltip": null,
            "layout": "IPY_MODEL_6e2f203a344d47af819ddb26442818ce",
            "placeholder": "​",
            "style": "IPY_MODEL_1b2f760e68894e78a20593a0ca4f08d1",
            "value": "Downloading data: 100%"
          }
        },
        "e813f5337f54444b8c4ff8b329376d70": {
          "model_module": "@jupyter-widgets/controls",
          "model_name": "FloatProgressModel",
          "model_module_version": "1.5.0",
          "state": {
            "_dom_classes": [],
            "_model_module": "@jupyter-widgets/controls",
            "_model_module_version": "1.5.0",
            "_model_name": "FloatProgressModel",
            "_view_count": null,
            "_view_module": "@jupyter-widgets/controls",
            "_view_module_version": "1.5.0",
            "_view_name": "ProgressView",
            "bar_style": "success",
            "description": "",
            "description_tooltip": null,
            "layout": "IPY_MODEL_3c5891a9a7004e349a832240a3186644",
            "max": 27147920,
            "min": 0,
            "orientation": "horizontal",
            "style": "IPY_MODEL_a07b3fc2ec69401f8d4af058e5b0c7a6",
            "value": 27147920
          }
        },
        "33913b848a1a4112a14a876f43594588": {
          "model_module": "@jupyter-widgets/controls",
          "model_name": "HTMLModel",
          "model_module_version": "1.5.0",
          "state": {
            "_dom_classes": [],
            "_model_module": "@jupyter-widgets/controls",
            "_model_module_version": "1.5.0",
            "_model_name": "HTMLModel",
            "_view_count": null,
            "_view_module": "@jupyter-widgets/controls",
            "_view_module_version": "1.5.0",
            "_view_name": "HTMLView",
            "description": "",
            "description_tooltip": null,
            "layout": "IPY_MODEL_f2bfca6cd0484e74a54d7eff4f284c70",
            "placeholder": "​",
            "style": "IPY_MODEL_d42aedcac84d4bea869ec2caf10325bd",
            "value": " 27.1M/27.1M [00:00&lt;00:00, 34.1MB/s]"
          }
        },
        "afda300aefef4eaba51da30ebc2d0cc7": {
          "model_module": "@jupyter-widgets/base",
          "model_name": "LayoutModel",
          "model_module_version": "1.2.0",
          "state": {
            "_model_module": "@jupyter-widgets/base",
            "_model_module_version": "1.2.0",
            "_model_name": "LayoutModel",
            "_view_count": null,
            "_view_module": "@jupyter-widgets/base",
            "_view_module_version": "1.2.0",
            "_view_name": "LayoutView",
            "align_content": null,
            "align_items": null,
            "align_self": null,
            "border": null,
            "bottom": null,
            "display": null,
            "flex": null,
            "flex_flow": null,
            "grid_area": null,
            "grid_auto_columns": null,
            "grid_auto_flow": null,
            "grid_auto_rows": null,
            "grid_column": null,
            "grid_gap": null,
            "grid_row": null,
            "grid_template_areas": null,
            "grid_template_columns": null,
            "grid_template_rows": null,
            "height": null,
            "justify_content": null,
            "justify_items": null,
            "left": null,
            "margin": null,
            "max_height": null,
            "max_width": null,
            "min_height": null,
            "min_width": null,
            "object_fit": null,
            "object_position": null,
            "order": null,
            "overflow": null,
            "overflow_x": null,
            "overflow_y": null,
            "padding": null,
            "right": null,
            "top": null,
            "visibility": null,
            "width": null
          }
        },
        "6e2f203a344d47af819ddb26442818ce": {
          "model_module": "@jupyter-widgets/base",
          "model_name": "LayoutModel",
          "model_module_version": "1.2.0",
          "state": {
            "_model_module": "@jupyter-widgets/base",
            "_model_module_version": "1.2.0",
            "_model_name": "LayoutModel",
            "_view_count": null,
            "_view_module": "@jupyter-widgets/base",
            "_view_module_version": "1.2.0",
            "_view_name": "LayoutView",
            "align_content": null,
            "align_items": null,
            "align_self": null,
            "border": null,
            "bottom": null,
            "display": null,
            "flex": null,
            "flex_flow": null,
            "grid_area": null,
            "grid_auto_columns": null,
            "grid_auto_flow": null,
            "grid_auto_rows": null,
            "grid_column": null,
            "grid_gap": null,
            "grid_row": null,
            "grid_template_areas": null,
            "grid_template_columns": null,
            "grid_template_rows": null,
            "height": null,
            "justify_content": null,
            "justify_items": null,
            "left": null,
            "margin": null,
            "max_height": null,
            "max_width": null,
            "min_height": null,
            "min_width": null,
            "object_fit": null,
            "object_position": null,
            "order": null,
            "overflow": null,
            "overflow_x": null,
            "overflow_y": null,
            "padding": null,
            "right": null,
            "top": null,
            "visibility": null,
            "width": null
          }
        },
        "1b2f760e68894e78a20593a0ca4f08d1": {
          "model_module": "@jupyter-widgets/controls",
          "model_name": "DescriptionStyleModel",
          "model_module_version": "1.5.0",
          "state": {
            "_model_module": "@jupyter-widgets/controls",
            "_model_module_version": "1.5.0",
            "_model_name": "DescriptionStyleModel",
            "_view_count": null,
            "_view_module": "@jupyter-widgets/base",
            "_view_module_version": "1.2.0",
            "_view_name": "StyleView",
            "description_width": ""
          }
        },
        "3c5891a9a7004e349a832240a3186644": {
          "model_module": "@jupyter-widgets/base",
          "model_name": "LayoutModel",
          "model_module_version": "1.2.0",
          "state": {
            "_model_module": "@jupyter-widgets/base",
            "_model_module_version": "1.2.0",
            "_model_name": "LayoutModel",
            "_view_count": null,
            "_view_module": "@jupyter-widgets/base",
            "_view_module_version": "1.2.0",
            "_view_name": "LayoutView",
            "align_content": null,
            "align_items": null,
            "align_self": null,
            "border": null,
            "bottom": null,
            "display": null,
            "flex": null,
            "flex_flow": null,
            "grid_area": null,
            "grid_auto_columns": null,
            "grid_auto_flow": null,
            "grid_auto_rows": null,
            "grid_column": null,
            "grid_gap": null,
            "grid_row": null,
            "grid_template_areas": null,
            "grid_template_columns": null,
            "grid_template_rows": null,
            "height": null,
            "justify_content": null,
            "justify_items": null,
            "left": null,
            "margin": null,
            "max_height": null,
            "max_width": null,
            "min_height": null,
            "min_width": null,
            "object_fit": null,
            "object_position": null,
            "order": null,
            "overflow": null,
            "overflow_x": null,
            "overflow_y": null,
            "padding": null,
            "right": null,
            "top": null,
            "visibility": null,
            "width": null
          }
        },
        "a07b3fc2ec69401f8d4af058e5b0c7a6": {
          "model_module": "@jupyter-widgets/controls",
          "model_name": "ProgressStyleModel",
          "model_module_version": "1.5.0",
          "state": {
            "_model_module": "@jupyter-widgets/controls",
            "_model_module_version": "1.5.0",
            "_model_name": "ProgressStyleModel",
            "_view_count": null,
            "_view_module": "@jupyter-widgets/base",
            "_view_module_version": "1.2.0",
            "_view_name": "StyleView",
            "bar_color": null,
            "description_width": ""
          }
        },
        "f2bfca6cd0484e74a54d7eff4f284c70": {
          "model_module": "@jupyter-widgets/base",
          "model_name": "LayoutModel",
          "model_module_version": "1.2.0",
          "state": {
            "_model_module": "@jupyter-widgets/base",
            "_model_module_version": "1.2.0",
            "_model_name": "LayoutModel",
            "_view_count": null,
            "_view_module": "@jupyter-widgets/base",
            "_view_module_version": "1.2.0",
            "_view_name": "LayoutView",
            "align_content": null,
            "align_items": null,
            "align_self": null,
            "border": null,
            "bottom": null,
            "display": null,
            "flex": null,
            "flex_flow": null,
            "grid_area": null,
            "grid_auto_columns": null,
            "grid_auto_flow": null,
            "grid_auto_rows": null,
            "grid_column": null,
            "grid_gap": null,
            "grid_row": null,
            "grid_template_areas": null,
            "grid_template_columns": null,
            "grid_template_rows": null,
            "height": null,
            "justify_content": null,
            "justify_items": null,
            "left": null,
            "margin": null,
            "max_height": null,
            "max_width": null,
            "min_height": null,
            "min_width": null,
            "object_fit": null,
            "object_position": null,
            "order": null,
            "overflow": null,
            "overflow_x": null,
            "overflow_y": null,
            "padding": null,
            "right": null,
            "top": null,
            "visibility": null,
            "width": null
          }
        },
        "d42aedcac84d4bea869ec2caf10325bd": {
          "model_module": "@jupyter-widgets/controls",
          "model_name": "DescriptionStyleModel",
          "model_module_version": "1.5.0",
          "state": {
            "_model_module": "@jupyter-widgets/controls",
            "_model_module_version": "1.5.0",
            "_model_name": "DescriptionStyleModel",
            "_view_count": null,
            "_view_module": "@jupyter-widgets/base",
            "_view_module_version": "1.2.0",
            "_view_name": "StyleView",
            "description_width": ""
          }
        },
        "ef9e685868d340439cdc1f4db368957c": {
          "model_module": "@jupyter-widgets/controls",
          "model_name": "HBoxModel",
          "model_module_version": "1.5.0",
          "state": {
            "_dom_classes": [],
            "_model_module": "@jupyter-widgets/controls",
            "_model_module_version": "1.5.0",
            "_model_name": "HBoxModel",
            "_view_count": null,
            "_view_module": "@jupyter-widgets/controls",
            "_view_module_version": "1.5.0",
            "_view_name": "HBoxView",
            "box_style": "",
            "children": [
              "IPY_MODEL_d53473128f6a429094b8d737ebd7404d",
              "IPY_MODEL_83f5a299063f404da8ecc19d28923670",
              "IPY_MODEL_26ca462282a4493bbcfcc708404d83c7"
            ],
            "layout": "IPY_MODEL_35fd64e0e64b413089b479b9b7ee7d79"
          }
        },
        "d53473128f6a429094b8d737ebd7404d": {
          "model_module": "@jupyter-widgets/controls",
          "model_name": "HTMLModel",
          "model_module_version": "1.5.0",
          "state": {
            "_dom_classes": [],
            "_model_module": "@jupyter-widgets/controls",
            "_model_module_version": "1.5.0",
            "_model_name": "HTMLModel",
            "_view_count": null,
            "_view_module": "@jupyter-widgets/controls",
            "_view_module_version": "1.5.0",
            "_view_name": "HTMLView",
            "description": "",
            "description_tooltip": null,
            "layout": "IPY_MODEL_d32c1f1e6ad74229973343b7093f7fe5",
            "placeholder": "​",
            "style": "IPY_MODEL_a44d9b886ad24d0da8df654e6b2b4d1b",
            "value": "Generating train split: 100%"
          }
        },
        "83f5a299063f404da8ecc19d28923670": {
          "model_module": "@jupyter-widgets/controls",
          "model_name": "FloatProgressModel",
          "model_module_version": "1.5.0",
          "state": {
            "_dom_classes": [],
            "_model_module": "@jupyter-widgets/controls",
            "_model_module_version": "1.5.0",
            "_model_name": "FloatProgressModel",
            "_view_count": null,
            "_view_module": "@jupyter-widgets/controls",
            "_view_module_version": "1.5.0",
            "_view_name": "ProgressView",
            "bar_style": "success",
            "description": "",
            "description_tooltip": null,
            "layout": "IPY_MODEL_d8e67671ce5f4e9c8697738595475e9b",
            "max": 1020868,
            "min": 0,
            "orientation": "horizontal",
            "style": "IPY_MODEL_7b3343bd4e864e14869072c2fee3090e",
            "value": 1020868
          }
        },
        "26ca462282a4493bbcfcc708404d83c7": {
          "model_module": "@jupyter-widgets/controls",
          "model_name": "HTMLModel",
          "model_module_version": "1.5.0",
          "state": {
            "_dom_classes": [],
            "_model_module": "@jupyter-widgets/controls",
            "_model_module_version": "1.5.0",
            "_model_name": "HTMLModel",
            "_view_count": null,
            "_view_module": "@jupyter-widgets/controls",
            "_view_module_version": "1.5.0",
            "_view_name": "HTMLView",
            "description": "",
            "description_tooltip": null,
            "layout": "IPY_MODEL_6e28800856d94a65bf9710209dfcc2f2",
            "placeholder": "​",
            "style": "IPY_MODEL_56f10007064b464c9a00d8b271b1dd50",
            "value": " 1020868/1020868 [01:16&lt;00:00, 3181.80 examples/s]"
          }
        },
        "35fd64e0e64b413089b479b9b7ee7d79": {
          "model_module": "@jupyter-widgets/base",
          "model_name": "LayoutModel",
          "model_module_version": "1.2.0",
          "state": {
            "_model_module": "@jupyter-widgets/base",
            "_model_module_version": "1.2.0",
            "_model_name": "LayoutModel",
            "_view_count": null,
            "_view_module": "@jupyter-widgets/base",
            "_view_module_version": "1.2.0",
            "_view_name": "LayoutView",
            "align_content": null,
            "align_items": null,
            "align_self": null,
            "border": null,
            "bottom": null,
            "display": null,
            "flex": null,
            "flex_flow": null,
            "grid_area": null,
            "grid_auto_columns": null,
            "grid_auto_flow": null,
            "grid_auto_rows": null,
            "grid_column": null,
            "grid_gap": null,
            "grid_row": null,
            "grid_template_areas": null,
            "grid_template_columns": null,
            "grid_template_rows": null,
            "height": null,
            "justify_content": null,
            "justify_items": null,
            "left": null,
            "margin": null,
            "max_height": null,
            "max_width": null,
            "min_height": null,
            "min_width": null,
            "object_fit": null,
            "object_position": null,
            "order": null,
            "overflow": null,
            "overflow_x": null,
            "overflow_y": null,
            "padding": null,
            "right": null,
            "top": null,
            "visibility": null,
            "width": null
          }
        },
        "d32c1f1e6ad74229973343b7093f7fe5": {
          "model_module": "@jupyter-widgets/base",
          "model_name": "LayoutModel",
          "model_module_version": "1.2.0",
          "state": {
            "_model_module": "@jupyter-widgets/base",
            "_model_module_version": "1.2.0",
            "_model_name": "LayoutModel",
            "_view_count": null,
            "_view_module": "@jupyter-widgets/base",
            "_view_module_version": "1.2.0",
            "_view_name": "LayoutView",
            "align_content": null,
            "align_items": null,
            "align_self": null,
            "border": null,
            "bottom": null,
            "display": null,
            "flex": null,
            "flex_flow": null,
            "grid_area": null,
            "grid_auto_columns": null,
            "grid_auto_flow": null,
            "grid_auto_rows": null,
            "grid_column": null,
            "grid_gap": null,
            "grid_row": null,
            "grid_template_areas": null,
            "grid_template_columns": null,
            "grid_template_rows": null,
            "height": null,
            "justify_content": null,
            "justify_items": null,
            "left": null,
            "margin": null,
            "max_height": null,
            "max_width": null,
            "min_height": null,
            "min_width": null,
            "object_fit": null,
            "object_position": null,
            "order": null,
            "overflow": null,
            "overflow_x": null,
            "overflow_y": null,
            "padding": null,
            "right": null,
            "top": null,
            "visibility": null,
            "width": null
          }
        },
        "a44d9b886ad24d0da8df654e6b2b4d1b": {
          "model_module": "@jupyter-widgets/controls",
          "model_name": "DescriptionStyleModel",
          "model_module_version": "1.5.0",
          "state": {
            "_model_module": "@jupyter-widgets/controls",
            "_model_module_version": "1.5.0",
            "_model_name": "DescriptionStyleModel",
            "_view_count": null,
            "_view_module": "@jupyter-widgets/base",
            "_view_module_version": "1.2.0",
            "_view_name": "StyleView",
            "description_width": ""
          }
        },
        "d8e67671ce5f4e9c8697738595475e9b": {
          "model_module": "@jupyter-widgets/base",
          "model_name": "LayoutModel",
          "model_module_version": "1.2.0",
          "state": {
            "_model_module": "@jupyter-widgets/base",
            "_model_module_version": "1.2.0",
            "_model_name": "LayoutModel",
            "_view_count": null,
            "_view_module": "@jupyter-widgets/base",
            "_view_module_version": "1.2.0",
            "_view_name": "LayoutView",
            "align_content": null,
            "align_items": null,
            "align_self": null,
            "border": null,
            "bottom": null,
            "display": null,
            "flex": null,
            "flex_flow": null,
            "grid_area": null,
            "grid_auto_columns": null,
            "grid_auto_flow": null,
            "grid_auto_rows": null,
            "grid_column": null,
            "grid_gap": null,
            "grid_row": null,
            "grid_template_areas": null,
            "grid_template_columns": null,
            "grid_template_rows": null,
            "height": null,
            "justify_content": null,
            "justify_items": null,
            "left": null,
            "margin": null,
            "max_height": null,
            "max_width": null,
            "min_height": null,
            "min_width": null,
            "object_fit": null,
            "object_position": null,
            "order": null,
            "overflow": null,
            "overflow_x": null,
            "overflow_y": null,
            "padding": null,
            "right": null,
            "top": null,
            "visibility": null,
            "width": null
          }
        },
        "7b3343bd4e864e14869072c2fee3090e": {
          "model_module": "@jupyter-widgets/controls",
          "model_name": "ProgressStyleModel",
          "model_module_version": "1.5.0",
          "state": {
            "_model_module": "@jupyter-widgets/controls",
            "_model_module_version": "1.5.0",
            "_model_name": "ProgressStyleModel",
            "_view_count": null,
            "_view_module": "@jupyter-widgets/base",
            "_view_module_version": "1.2.0",
            "_view_name": "StyleView",
            "bar_color": null,
            "description_width": ""
          }
        },
        "6e28800856d94a65bf9710209dfcc2f2": {
          "model_module": "@jupyter-widgets/base",
          "model_name": "LayoutModel",
          "model_module_version": "1.2.0",
          "state": {
            "_model_module": "@jupyter-widgets/base",
            "_model_module_version": "1.2.0",
            "_model_name": "LayoutModel",
            "_view_count": null,
            "_view_module": "@jupyter-widgets/base",
            "_view_module_version": "1.2.0",
            "_view_name": "LayoutView",
            "align_content": null,
            "align_items": null,
            "align_self": null,
            "border": null,
            "bottom": null,
            "display": null,
            "flex": null,
            "flex_flow": null,
            "grid_area": null,
            "grid_auto_columns": null,
            "grid_auto_flow": null,
            "grid_auto_rows": null,
            "grid_column": null,
            "grid_gap": null,
            "grid_row": null,
            "grid_template_areas": null,
            "grid_template_columns": null,
            "grid_template_rows": null,
            "height": null,
            "justify_content": null,
            "justify_items": null,
            "left": null,
            "margin": null,
            "max_height": null,
            "max_width": null,
            "min_height": null,
            "min_width": null,
            "object_fit": null,
            "object_position": null,
            "order": null,
            "overflow": null,
            "overflow_x": null,
            "overflow_y": null,
            "padding": null,
            "right": null,
            "top": null,
            "visibility": null,
            "width": null
          }
        },
        "56f10007064b464c9a00d8b271b1dd50": {
          "model_module": "@jupyter-widgets/controls",
          "model_name": "DescriptionStyleModel",
          "model_module_version": "1.5.0",
          "state": {
            "_model_module": "@jupyter-widgets/controls",
            "_model_module_version": "1.5.0",
            "_model_name": "DescriptionStyleModel",
            "_view_count": null,
            "_view_module": "@jupyter-widgets/base",
            "_view_module_version": "1.2.0",
            "_view_name": "StyleView",
            "description_width": ""
          }
        },
        "55a5797dde2944f9b5127700edace0d9": {
          "model_module": "@jupyter-widgets/controls",
          "model_name": "HBoxModel",
          "model_module_version": "1.5.0",
          "state": {
            "_dom_classes": [],
            "_model_module": "@jupyter-widgets/controls",
            "_model_module_version": "1.5.0",
            "_model_name": "HBoxModel",
            "_view_count": null,
            "_view_module": "@jupyter-widgets/controls",
            "_view_module_version": "1.5.0",
            "_view_name": "HBoxView",
            "box_style": "",
            "children": [
              "IPY_MODEL_9d1ee9d726a8406d94f2b5f1bbd9b74c",
              "IPY_MODEL_7eb4fda6efc04d6893fe3f6283dc1665",
              "IPY_MODEL_c494e068f9af4230a29c7925a6688407"
            ],
            "layout": "IPY_MODEL_84f4e40c2aae4e23a5577e31abf60fe5"
          }
        },
        "9d1ee9d726a8406d94f2b5f1bbd9b74c": {
          "model_module": "@jupyter-widgets/controls",
          "model_name": "HTMLModel",
          "model_module_version": "1.5.0",
          "state": {
            "_dom_classes": [],
            "_model_module": "@jupyter-widgets/controls",
            "_model_module_version": "1.5.0",
            "_model_name": "HTMLModel",
            "_view_count": null,
            "_view_module": "@jupyter-widgets/controls",
            "_view_module_version": "1.5.0",
            "_view_name": "HTMLView",
            "description": "",
            "description_tooltip": null,
            "layout": "IPY_MODEL_9325726e02494faba7386823b2ec2405",
            "placeholder": "​",
            "style": "IPY_MODEL_a1421419f22744b3bb6759e000675af1",
            "value": "Filter: 100%"
          }
        },
        "7eb4fda6efc04d6893fe3f6283dc1665": {
          "model_module": "@jupyter-widgets/controls",
          "model_name": "FloatProgressModel",
          "model_module_version": "1.5.0",
          "state": {
            "_dom_classes": [],
            "_model_module": "@jupyter-widgets/controls",
            "_model_module_version": "1.5.0",
            "_model_name": "FloatProgressModel",
            "_view_count": null,
            "_view_module": "@jupyter-widgets/controls",
            "_view_module_version": "1.5.0",
            "_view_name": "ProgressView",
            "bar_style": "success",
            "description": "",
            "description_tooltip": null,
            "layout": "IPY_MODEL_9ee0d6bad6be4419aa2de0dd5e147274",
            "max": 1020868,
            "min": 0,
            "orientation": "horizontal",
            "style": "IPY_MODEL_fe995f7491d14928a391cb27be9269f6",
            "value": 1020868
          }
        },
        "c494e068f9af4230a29c7925a6688407": {
          "model_module": "@jupyter-widgets/controls",
          "model_name": "HTMLModel",
          "model_module_version": "1.5.0",
          "state": {
            "_dom_classes": [],
            "_model_module": "@jupyter-widgets/controls",
            "_model_module_version": "1.5.0",
            "_model_name": "HTMLModel",
            "_view_count": null,
            "_view_module": "@jupyter-widgets/controls",
            "_view_module_version": "1.5.0",
            "_view_name": "HTMLView",
            "description": "",
            "description_tooltip": null,
            "layout": "IPY_MODEL_efdac6f9c33547469ad05eefccb16b2e",
            "placeholder": "​",
            "style": "IPY_MODEL_539f7b22f41c4ec68960cd5bdc5bbd45",
            "value": " 1020868/1020868 [00:28&lt;00:00, 73947.52 examples/s]"
          }
        },
        "84f4e40c2aae4e23a5577e31abf60fe5": {
          "model_module": "@jupyter-widgets/base",
          "model_name": "LayoutModel",
          "model_module_version": "1.2.0",
          "state": {
            "_model_module": "@jupyter-widgets/base",
            "_model_module_version": "1.2.0",
            "_model_name": "LayoutModel",
            "_view_count": null,
            "_view_module": "@jupyter-widgets/base",
            "_view_module_version": "1.2.0",
            "_view_name": "LayoutView",
            "align_content": null,
            "align_items": null,
            "align_self": null,
            "border": null,
            "bottom": null,
            "display": null,
            "flex": null,
            "flex_flow": null,
            "grid_area": null,
            "grid_auto_columns": null,
            "grid_auto_flow": null,
            "grid_auto_rows": null,
            "grid_column": null,
            "grid_gap": null,
            "grid_row": null,
            "grid_template_areas": null,
            "grid_template_columns": null,
            "grid_template_rows": null,
            "height": null,
            "justify_content": null,
            "justify_items": null,
            "left": null,
            "margin": null,
            "max_height": null,
            "max_width": null,
            "min_height": null,
            "min_width": null,
            "object_fit": null,
            "object_position": null,
            "order": null,
            "overflow": null,
            "overflow_x": null,
            "overflow_y": null,
            "padding": null,
            "right": null,
            "top": null,
            "visibility": null,
            "width": null
          }
        },
        "9325726e02494faba7386823b2ec2405": {
          "model_module": "@jupyter-widgets/base",
          "model_name": "LayoutModel",
          "model_module_version": "1.2.0",
          "state": {
            "_model_module": "@jupyter-widgets/base",
            "_model_module_version": "1.2.0",
            "_model_name": "LayoutModel",
            "_view_count": null,
            "_view_module": "@jupyter-widgets/base",
            "_view_module_version": "1.2.0",
            "_view_name": "LayoutView",
            "align_content": null,
            "align_items": null,
            "align_self": null,
            "border": null,
            "bottom": null,
            "display": null,
            "flex": null,
            "flex_flow": null,
            "grid_area": null,
            "grid_auto_columns": null,
            "grid_auto_flow": null,
            "grid_auto_rows": null,
            "grid_column": null,
            "grid_gap": null,
            "grid_row": null,
            "grid_template_areas": null,
            "grid_template_columns": null,
            "grid_template_rows": null,
            "height": null,
            "justify_content": null,
            "justify_items": null,
            "left": null,
            "margin": null,
            "max_height": null,
            "max_width": null,
            "min_height": null,
            "min_width": null,
            "object_fit": null,
            "object_position": null,
            "order": null,
            "overflow": null,
            "overflow_x": null,
            "overflow_y": null,
            "padding": null,
            "right": null,
            "top": null,
            "visibility": null,
            "width": null
          }
        },
        "a1421419f22744b3bb6759e000675af1": {
          "model_module": "@jupyter-widgets/controls",
          "model_name": "DescriptionStyleModel",
          "model_module_version": "1.5.0",
          "state": {
            "_model_module": "@jupyter-widgets/controls",
            "_model_module_version": "1.5.0",
            "_model_name": "DescriptionStyleModel",
            "_view_count": null,
            "_view_module": "@jupyter-widgets/base",
            "_view_module_version": "1.2.0",
            "_view_name": "StyleView",
            "description_width": ""
          }
        },
        "9ee0d6bad6be4419aa2de0dd5e147274": {
          "model_module": "@jupyter-widgets/base",
          "model_name": "LayoutModel",
          "model_module_version": "1.2.0",
          "state": {
            "_model_module": "@jupyter-widgets/base",
            "_model_module_version": "1.2.0",
            "_model_name": "LayoutModel",
            "_view_count": null,
            "_view_module": "@jupyter-widgets/base",
            "_view_module_version": "1.2.0",
            "_view_name": "LayoutView",
            "align_content": null,
            "align_items": null,
            "align_self": null,
            "border": null,
            "bottom": null,
            "display": null,
            "flex": null,
            "flex_flow": null,
            "grid_area": null,
            "grid_auto_columns": null,
            "grid_auto_flow": null,
            "grid_auto_rows": null,
            "grid_column": null,
            "grid_gap": null,
            "grid_row": null,
            "grid_template_areas": null,
            "grid_template_columns": null,
            "grid_template_rows": null,
            "height": null,
            "justify_content": null,
            "justify_items": null,
            "left": null,
            "margin": null,
            "max_height": null,
            "max_width": null,
            "min_height": null,
            "min_width": null,
            "object_fit": null,
            "object_position": null,
            "order": null,
            "overflow": null,
            "overflow_x": null,
            "overflow_y": null,
            "padding": null,
            "right": null,
            "top": null,
            "visibility": null,
            "width": null
          }
        },
        "fe995f7491d14928a391cb27be9269f6": {
          "model_module": "@jupyter-widgets/controls",
          "model_name": "ProgressStyleModel",
          "model_module_version": "1.5.0",
          "state": {
            "_model_module": "@jupyter-widgets/controls",
            "_model_module_version": "1.5.0",
            "_model_name": "ProgressStyleModel",
            "_view_count": null,
            "_view_module": "@jupyter-widgets/base",
            "_view_module_version": "1.2.0",
            "_view_name": "StyleView",
            "bar_color": null,
            "description_width": ""
          }
        },
        "efdac6f9c33547469ad05eefccb16b2e": {
          "model_module": "@jupyter-widgets/base",
          "model_name": "LayoutModel",
          "model_module_version": "1.2.0",
          "state": {
            "_model_module": "@jupyter-widgets/base",
            "_model_module_version": "1.2.0",
            "_model_name": "LayoutModel",
            "_view_count": null,
            "_view_module": "@jupyter-widgets/base",
            "_view_module_version": "1.2.0",
            "_view_name": "LayoutView",
            "align_content": null,
            "align_items": null,
            "align_self": null,
            "border": null,
            "bottom": null,
            "display": null,
            "flex": null,
            "flex_flow": null,
            "grid_area": null,
            "grid_auto_columns": null,
            "grid_auto_flow": null,
            "grid_auto_rows": null,
            "grid_column": null,
            "grid_gap": null,
            "grid_row": null,
            "grid_template_areas": null,
            "grid_template_columns": null,
            "grid_template_rows": null,
            "height": null,
            "justify_content": null,
            "justify_items": null,
            "left": null,
            "margin": null,
            "max_height": null,
            "max_width": null,
            "min_height": null,
            "min_width": null,
            "object_fit": null,
            "object_position": null,
            "order": null,
            "overflow": null,
            "overflow_x": null,
            "overflow_y": null,
            "padding": null,
            "right": null,
            "top": null,
            "visibility": null,
            "width": null
          }
        },
        "539f7b22f41c4ec68960cd5bdc5bbd45": {
          "model_module": "@jupyter-widgets/controls",
          "model_name": "DescriptionStyleModel",
          "model_module_version": "1.5.0",
          "state": {
            "_model_module": "@jupyter-widgets/controls",
            "_model_module_version": "1.5.0",
            "_model_name": "DescriptionStyleModel",
            "_view_count": null,
            "_view_module": "@jupyter-widgets/base",
            "_view_module_version": "1.2.0",
            "_view_name": "StyleView",
            "description_width": ""
          }
        }
      }
    }
  },
  "nbformat": 4,
  "nbformat_minor": 0
}